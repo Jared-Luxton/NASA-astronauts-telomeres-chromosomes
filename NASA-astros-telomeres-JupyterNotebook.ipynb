{
 "cells": [
  {
   "cell_type": "markdown",
   "metadata": {},
   "source": [
    "# Analyzing the Effects of Space Flight on Telomere Length Dynamics in NASA Astronauts\n",
    "\n",
    "In 2024 NASA will execute Project Artemis, sending humans back to the moon to establish a permanent lunar base. However, space is inherently dangerous to human health. As part of my Ph.D, I'm researching how spaceflight impacts human health, and whether these impacts could potentially comprise current (Project Artemis) or future missions, ala Mars and beyond. Specifically, I'm examining how time aboard the International Space Station affects telomeres, the ends of human DNA, and the stability of DNA, for NASA's astronauts. My research takes the *first look at the changes to telomeres in unrelated astronauts as a result of spaceflight*, informing NASA policy and approach for current and future missions.\n",
    "\n",
    "This repository details the context of my research in the wider pursuit of space exploration; a brief overview of my laboratory methods; and an extensive walkthrough of my analysis using Python on telomere length data in astronauts. Why Python? The first pass of my analysis on the astronaut dataset was done in Excel and took ~1 month; my Python script takes about 30 seconds. This repository may serve as an accessory to our upcoming publications. The walkthrough below is intended for those interested in the science and in the code. A Jupyter notebook will be provided as an accessory. \n",
    "\n",
    "Please feel free to contact me.\n",
    "\n",
    "**Contact:**  \n",
    "Jared Luxton  \n",
    "jLuxton@colostate.edu\n",
    "\n",
    "<table><tr>\n",
    "<td><img src=https://upload.wikimedia.org/wikipedia/commons/thumb/c/c3/Python-logo-notext.svg/200px-Python-logo-notext.svg.png width=\"150\"> \n",
    "<td><img src=https://cdn1.medicalnewstoday.com/content/images/articles/319/319971/space-explorer.jpg width=\"300\">\n",
    "<td><img src=https://abm-website-assets.s3.amazonaws.com/rdmag.com/s3fs-public/embedded_image/2017/04/telomere-chromosome-stock.jpg width=\"250\">\n",
    "</tr></table>\n",
    "\n",
    "&nbsp;\n",
    "&nbsp;   \n",
    "\n",
    "## Table of Contents:\n",
    "\n",
    "* [Background: Health Risks and Obstacles to Space Flight](#background) \n",
    "* [Approach: Identifying Risks by Measuring Telomere Lengths](#approach)\n",
    "* [Methods: Blood Collections, Cell Culture, Telomere Measurements](#methods)\n",
    "* [Data Cleaning: Handling Telomere Length Data](#data-cleaning)\n",
    "* [Data Analysis: Visualization and Statistics](#data-analysis)\n",
    "* [Conclusions](#conclusions)\n",
    "\n",
    "&nbsp;    "
   ]
  },
  {
   "cell_type": "markdown",
   "metadata": {},
   "source": [
    "<a id='background'></a>\n",
    "## Background \n",
    "**Health Risks and Obstacles to Space Flight**   \n",
    "Did you know that NASA is sending humans to the Moon in 2024? Yes! And not only that: this mission is the first of many that will develop permanent lunar colonies and provide a bridge to exploring Mars and beyond. Dubbed Artemis, this NASA project entails sending the *first* woman (and another man) to the lunar surface and the development of a *permanent lunar outpost called the Gateway* orbiting the Moon. The objectives undertaken by Artemis are part of NASA's overarching goal (and humanity's common dream) for humans to explore our solar system; Mars and beyond. \n",
    "\n",
    "The immediate challenges facing Artemis are substantial in terms of technology and health considerations for the astronauts. Even as we approach Project Artemis in 2024, the short- and long-term health effects of spaceflight, especially those from chronic exposure to galactic cosmic rays, a type of radiation unique to space and not found on Earth, remain relatively unknown. \n",
    "\n",
    "Galactic cosmic rays (GCRs) are highly energetic particles hurtling through space at nearly the speed of light. Though a rare event, when GCRs strike human cells they shred all cellular contents in their path, including DNA. This damage accumulates over time, and could lead to degeneration of tissues and cancer. Currently, we simply don't understand how much cellular damage humans accumulate in space, and how much it increases cancer risk. Not understanding these issues makes addressing them impossible. My research directly addresses these issues by examing how spaceflight effects telomeres (the ends of DNA) and DNA stability for NASA astronauts aboard the International Space Station.\n",
    "\n",
    "&nbsp; \n",
    "\n",
    "\n"
   ]
  },
  {
   "cell_type": "markdown",
   "metadata": {},
   "source": [
    "<a id='approach'></a>\n",
    "## Approach \n",
    "**Identifying Risks by Measuring Telomere Lengths**  \n",
    "Telomeres are repetitive sequences of DNA covered by protein found at the very ends of DNA. Telomeres shorten with each cell division and thus shorten as we age. When the telomeres in a cell reach a critically short length, the cell will die or persist in a state which damages neighboring cells (termed senescence). Cell death resulting from telomeres shortening too quickly will lead to age-related diseases, i.e cancer.  Environmental exposures, including space radiation, air pollution, stress, inflammation, and others can all contribute to telomere shortening and thus age-related diseases - cancer. Telomeres therefore link environmental exposures with age-related diseases. By measuring telomere length over a period of time which involves environmental stressors and exposures, the telomere length changes can be used to quantify the short- and long-term effects of that experience in terms of cancer risk and disease. This is what we've done with the astronauts.\n",
    "\n",
    "\n",
    "&nbsp; "
   ]
  },
  {
   "cell_type": "markdown",
   "metadata": {},
   "source": [
    "<a id='methods'></a>\n",
    "## Methods\n",
    "**Blood Collection, Cell Culture, Telomere Measurements**  \n",
    "We monitored the telomere lengths in 11 unrelated astronauts at pre-, mid-, and post-spaceflight timepoints aboard the International Space Station (where available). In all, we have telomere data for about seven timepoint samples for each astronaut. For our analyses, we directly monitored the lengths of *all individual telomeres* in each cell for each timepoint for each patient; we also have the telomere length means for those timepoints.\n",
    "\n",
    "To measure telomere length in astronauts, we used a noninvasive approach for sample collection and analysis. Blood was taken from astronauts at pre-, mid- (yes, blood was drawn aboard the International Space Station, sent down on the Soyuz capsule to Texas, and mailed to us), and post-spaceflight timepoints. From these blood samples we specifically cultured white blood cells (ala 'T-cells'). By culturing and using only white blood cells for quantifying telomere length, we reduced potential variation measurements. \n",
    "\n",
    "\n",
    "&nbsp; "
   ]
  },
  {
   "cell_type": "markdown",
   "metadata": {},
   "source": [
    "<a id='data-cleaning'></a>\n",
    "&nbsp; \n",
    "## Data Cleaning \n",
    "**Handling Telomere Length Data**\\\n",
    "\n",
    "\n",
    "\n",
    "&nbsp; \n"
   ]
  },
  {
   "cell_type": "code",
   "execution_count": 13,
   "metadata": {},
   "outputs": [],
   "source": [
    "import os\n",
    "\n",
    "import numpy as np\n",
    "from numpy import array\n",
    "import pandas as pd\n",
    "from pandas import ExcelWriter\n",
    "from pandas import ExcelFile\n",
    "\n",
    "import matplotlib.pyplot as plt\n",
    "from matplotlib.ticker import StrMethodFormatter\n",
    "from matplotlib import colors\n",
    "from matplotlib.ticker import PercentFormatter\n",
    "\n",
    "from scipy import stats\n",
    "from statsmodels.graphics.gofplots import qqplot"
   ]
  },
  {
   "cell_type": "code",
   "execution_count": 20,
   "metadata": {},
   "outputs": [],
   "source": [
    "def generate_histograms_and_dataframes_forTeloLengthData(patharg):\n",
    "\n",
    "    \"\"\"\n",
    "    USAGE:\n",
    "    From the command line, call the name of this entire script file, and pass an argument\n",
    "    for the location (directory) containing the Excel files to analyze, i.e\n",
    "    $ python Name_Of_This_Script directory/containing/excelfiles/to/analyze\n",
    "    \n",
    "    This is the main function for this script, which opens custom Excel (.xlsx) files we use for \n",
    "    quantifying raw telomere lengths, derived from ImageJ analyses.\n",
    "    The individual telomere lengths column is extracted, cleaned of NA values & DAPI-intensity \n",
    "    values, outliers (3 std devs from mean of column) are removed, and the length values are \n",
    "    standardized to each other according to discrepancies in the fluoresent intensity of \n",
    "    the microscope, determined by fluorescent bead measurements. The astronaut ID & sample's \n",
    "    timepoint (from filename) is associated with the individual telo length column \n",
    "    (for that excel file) as a KEY:VALUE pair in a dictionary. The dictionary is looped over, \n",
    "    initializing variables corresponding to astronaut sample timepoints, and those variables \n",
    "    are used to derive descriptive stats, and create histogram graphs.\n",
    "    \"\"\"\n",
    "\n",
    "    dict_astro_individ_telos_dfs = {}\n",
    "\n",
    "    for file in os.scandir(patharg):\n",
    "        if file.name.endswith('.xlsx') and file.name.startswith('~$') == False:\n",
    "            print(f'{file.name} telomere data acquisition in progress..')\n",
    "        \n",
    "            try:\n",
    "                df = pd.read_excel(file)\n",
    "\n",
    "            except:\n",
    "                print(f'{file.name} File not found..')\n",
    "                return -1\n",
    "\n",
    "            df.rename(columns={'Unnamed: 3':'Mean Individ Telos'}, inplace=True)\n",
    "            \n",
    "            DAPI_values_to_drop=[5, 192, 379, 566, 753, 940, 1127, 1314, 1501, 1688, 1875, 2062,\n",
    "                    2249, 2436, 2623, 2810, 2997, 3184, 3371, 3558, 3745, 3932, 4119, 4306, 4493, \n",
    "                    4680, 4867, 5054, 5241, 5428]\n",
    "\n",
    "            individual_telos_lengths = (df['Mean Individ Telos'])\n",
    "            individual_telos_lengths = individual_telos_lengths.drop(labels=DAPI_values_to_drop)\n",
    "            individual_telos_lengths = individual_telos_lengths.iloc[7:5611]\n",
    "            telos_str_toNaN = pd.to_numeric(individual_telos_lengths, errors='coerce')\n",
    "            individual_telos_cleaned = telos_str_toNaN.dropna(axis=0, how='any')\n",
    "            telos_individ_df = individual_telos_cleaned.to_frame(name=None)\n",
    "            telos_individ_df = telos_individ_df[(np.abs(stats.zscore(telos_individ_df)) < 3).all(axis=1)]\n",
    "            \n",
    "\n",
    "            if ('5163' in file.name) or ('1536' in file.name):\n",
    "                telos_individ_df_cy3Cal = telos_individ_df.div(59.86)\n",
    "\n",
    "            elif '2171' in file.name:\n",
    "                telos_individ_df_cy3Cal = telos_individ_df.div(80.5)\n",
    "\n",
    "            elif '7673' in file.name:\n",
    "                telos_individ_df_cy3Cal = telos_individ_df.div(2.11)\n",
    "\n",
    "            elif '2479' in file.name:\n",
    "                telos_individ_df_cy3Cal = telos_individ_df.div(2.18)\n",
    "\n",
    "            elif '1261' in file.name:\n",
    "                telos_individ_df_cy3Cal = telos_individ_df.div(2.16)\n",
    "\n",
    "            else:\n",
    "                telos_individ_df_cy3Cal = telos_individ_df\n",
    "\n",
    "            file_name_trimmed = file.name.replace('.xlsx', '')\n",
    "            dict_astro_individ_telos_dfs[file_name_trimmed] = telos_individ_df_cy3Cal\n",
    "    \n",
    "    print('Done collecting all astronaut telomere length excel files')\n",
    "    return dict_astro_individ_telos_dfs"
   ]
  },
  {
   "cell_type": "code",
   "execution_count": 21,
   "metadata": {},
   "outputs": [
    {
     "name": "stdout",
     "output_type": "stream",
     "text": [
      "dso7673 mphase TeloFISH R+270.xlsx telomere data acquisition in progress..\n",
      "dso2494 mphase TeloFISH R+270.xlsx telomere data acquisition in progress..\n",
      "dso2479 mphase TeloFISH R+270.xlsx telomere data acquisition in progress..\n",
      "dso1062 mphase TeloFISH R+270.xlsx telomere data acquisition in progress..\n",
      "DSO1536 L-270.xlsx telomere data acquisition in progress..\n",
      "dso2381 mphase TeloFISH R+270.xlsx telomere data acquisition in progress..\n",
      "DSO1536 FD140.xlsx telomere data acquisition in progress..\n",
      "DSO2171 L-180.xlsx telomere data acquisition in progress..\n",
      "DSO1536 FD90.xlsx telomere data acquisition in progress..\n",
      "dso1261 mphase TeloFISH R+270.xlsx telomere data acquisition in progress..\n",
      "dso3228 mphase TeloFISH R+270.xlsx telomere data acquisition in progress..\n",
      "dso4819 mphase TeloFISH R+270.xlsx telomere data acquisition in progress..\n",
      "DSO5163 R+180.xlsx telomere data acquisition in progress..\n",
      "dso2494 mphase TeloFISH L-270.xlsx telomere data acquisition in progress..\n",
      "DSO2171 FD260.xlsx telomere data acquisition in progress..\n",
      "DSO2171 FD45.xlsx telomere data acquisition in progress..\n",
      "dso2479 mphase TeloFISH L-270.xlsx telomere data acquisition in progress..\n",
      "dso7673 mphase TeloFISH L-270.xlsx telomere data acquisition in progress..\n",
      "dso2381 mphase TeloFISH L-270.xlsx telomere data acquisition in progress..\n",
      "DSO5163 FD90.xlsx telomere data acquisition in progress..\n",
      "DSO2171 R+180.xlsx telomere data acquisition in progress..\n",
      "dso1062 mphase TeloFISH L-270.xlsx telomere data acquisition in progress..\n",
      "DSO1536 R+270.xlsx telomere data acquisition in progress..\n",
      "dso1261 mphase TeloFISH L-270.xlsx telomere data acquisition in progress..\n",
      "dso4819 mphase TeloFISH L-270.xlsx telomere data acquisition in progress..\n",
      "dso3228 mphase TeloFISH L-270.xlsx telomere data acquisition in progress..\n",
      "DSO5163 L-270.xlsx telomere data acquisition in progress..\n",
      "DSO5163 FD140.xlsx telomere data acquisition in progress..\n",
      "Done collecting all astronaut telomere length excel files\n"
     ]
    }
   ],
   "source": [
    "dict_astro_individ_telos_dfs = generate_histograms_and_dataframes_forTeloLengthData('../all astros for pre mid post and pre post')"
   ]
  },
  {
   "cell_type": "markdown",
   "metadata": {},
   "source": [
    "<a id='data-analysis'></a>\n",
    "&nbsp; \n",
    "## Data Analysis\n",
    "**Visualization and Statistics**\\\n",
    "...\n",
    "\n",
    "&nbsp; "
   ]
  },
  {
   "cell_type": "markdown",
   "metadata": {},
   "source": [
    "<a id='conclusions'></a>\n",
    "&nbsp; \n",
    "## Conclusions\n",
    "**Highlights and Final Thoughts**\\\n",
    "...\n",
    "\n",
    "&nbsp; "
   ]
  },
  {
   "cell_type": "code",
   "execution_count": null,
   "metadata": {},
   "outputs": [],
   "source": []
  },
  {
   "cell_type": "code",
   "execution_count": null,
   "metadata": {},
   "outputs": [],
   "source": []
  }
 ],
 "metadata": {
  "kernelspec": {
   "display_name": "Python 3",
   "language": "python",
   "name": "python3"
  },
  "language_info": {
   "codemirror_mode": {
    "name": "ipython",
    "version": 3
   },
   "file_extension": ".py",
   "mimetype": "text/x-python",
   "name": "python",
   "nbconvert_exporter": "python",
   "pygments_lexer": "ipython3",
   "version": "3.7.3"
  }
 },
 "nbformat": 4,
 "nbformat_minor": 2
}
