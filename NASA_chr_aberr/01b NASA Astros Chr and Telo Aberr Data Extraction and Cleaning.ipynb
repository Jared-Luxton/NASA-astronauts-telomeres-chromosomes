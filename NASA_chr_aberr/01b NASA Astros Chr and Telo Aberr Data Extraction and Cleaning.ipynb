{
 "cells": [
  {
   "cell_type": "code",
   "execution_count": 26,
   "metadata": {},
   "outputs": [],
   "source": [
    "# tools for handling files\n",
    "import sys\n",
    "import os\n",
    "\n",
    "# pandas/numpy for handling data\n",
    "import pandas as pd\n",
    "import numpy as np\n",
    "from pandas import ExcelWriter\n",
    "from pandas import ExcelFile"
   ]
  },
  {
   "cell_type": "markdown",
   "metadata": {},
   "source": [
    "---\n",
    "##### &nbsp; \n",
    "\n",
    "The chromosome rearrangement scoring data by subtelomere Directional Genomic Hybridization (subtelo-dGH) was originally stored in\n",
    "indvidiual excel sheets. However, the data was previously combined into one sheet. The same is true of the telomeric aberrations by \n",
    "TeloFISH - it's in the same file as the subtelo-dGH data. \n",
    "\n",
    "subtelo-dGH was performed on pre-/post-flight samples most distal to spaceflight and on midflight samples for astros #1, 2, & 5; as well as distal pre-flight/post-flight samples for all other astros. Telomeric aberrations were scored for astros #1, 2, & 5 at pre-/post-flight most proximal to spaceflight and on midflight samples.\n",
    "\n",
    "We'll extract all of the data from this excel sheet. We'll generate a dataframe & save it for later use.\n",
    "\n",
    "##### &nbsp; \n",
    "---"
   ]
  },
  {
   "cell_type": "markdown",
   "metadata": {},
   "source": [
    "### Extracting all telomeric / chr aberr data into one dataframe "
   ]
  },
  {
   "cell_type": "code",
   "execution_count": 27,
   "metadata": {},
   "outputs": [],
   "source": [
    "# pulling ALL of the data in the sheet into one dataframe\n",
    "\n",
    "chr_data = '../excel data/Chromosome_Aberrations_telodGH_unrelatedAstros+SK_complete_TeloAberr_astros125___graphs_7_17_19_227pm.xlsx'\n",
    "nasa_chr_data = pd.read_excel(chr_data)"
   ]
  },
  {
   "cell_type": "markdown",
   "metadata": {},
   "source": [
    "### Parsing pre-flight, midflight1&2, and post-flight telomeric aberration data"
   ]
  },
  {
   "cell_type": "code",
   "execution_count": 28,
   "metadata": {},
   "outputs": [
    {
     "name": "stdout",
     "output_type": "stream",
     "text": [
      "Index(['astro id', 'flight status.3', 'Cell Number.5', 'Image File Number.6',\n",
      "       '# of Fragile Telos', '# of STL-complete', '#  of STL-hetero',\n",
      "       '#  of potential threaded chr'],\n",
      "      dtype='object')\n"
     ]
    },
    {
     "data": {
      "text/html": [
       "<div>\n",
       "<style scoped>\n",
       "    .dataframe tbody tr th:only-of-type {\n",
       "        vertical-align: middle;\n",
       "    }\n",
       "\n",
       "    .dataframe tbody tr th {\n",
       "        vertical-align: top;\n",
       "    }\n",
       "\n",
       "    .dataframe thead th {\n",
       "        text-align: right;\n",
       "    }\n",
       "</style>\n",
       "<table border=\"1\" class=\"dataframe\">\n",
       "  <thead>\n",
       "    <tr style=\"text-align: right;\">\n",
       "      <th></th>\n",
       "      <th>astro id</th>\n",
       "      <th>flight status.3</th>\n",
       "      <th>Cell Number.5</th>\n",
       "      <th>Image File Number.6</th>\n",
       "      <th># of Fragile Telos</th>\n",
       "      <th># of STL-complete</th>\n",
       "      <th>#  of STL-hetero</th>\n",
       "      <th>#  of potential threaded chr</th>\n",
       "    </tr>\n",
       "  </thead>\n",
       "  <tbody>\n",
       "    <tr>\n",
       "      <th>0</th>\n",
       "      <td>2171</td>\n",
       "      <td>pre-flight</td>\n",
       "      <td>1</td>\n",
       "      <td>1</td>\n",
       "      <td>1</td>\n",
       "      <td>10</td>\n",
       "      <td>15</td>\n",
       "      <td>0</td>\n",
       "    </tr>\n",
       "  </tbody>\n",
       "</table>\n",
       "</div>"
      ],
      "text/plain": [
       "  astro id flight status.3 Cell Number.5 Image File Number.6  \\\n",
       "0     2171      pre-flight             1                   1   \n",
       "\n",
       "  # of Fragile Telos # of STL-complete #  of STL-hetero  \\\n",
       "0                  1                10               15   \n",
       "\n",
       "  #  of potential threaded chr  \n",
       "0                            0  "
      ]
     },
     "metadata": {},
     "output_type": "display_data"
    },
    {
     "data": {
      "text/html": [
       "<div>\n",
       "<style scoped>\n",
       "    .dataframe tbody tr th:only-of-type {\n",
       "        vertical-align: middle;\n",
       "    }\n",
       "\n",
       "    .dataframe tbody tr th {\n",
       "        vertical-align: top;\n",
       "    }\n",
       "\n",
       "    .dataframe thead th {\n",
       "        text-align: right;\n",
       "    }\n",
       "</style>\n",
       "<table border=\"1\" class=\"dataframe\">\n",
       "  <thead>\n",
       "    <tr style=\"text-align: right;\">\n",
       "      <th></th>\n",
       "      <th>astro id.1</th>\n",
       "      <th>flight status.4</th>\n",
       "      <th>Cell Number.6</th>\n",
       "      <th>Image File Number.7</th>\n",
       "      <th># of Fragile Telos.1</th>\n",
       "      <th># of STL-complete.1</th>\n",
       "      <th>#  of STL-hetero.1</th>\n",
       "      <th>#  of potential threaded chr.1</th>\n",
       "    </tr>\n",
       "  </thead>\n",
       "  <tbody>\n",
       "    <tr>\n",
       "      <th>0</th>\n",
       "      <td>2171</td>\n",
       "      <td>mid-flight 1</td>\n",
       "      <td>1</td>\n",
       "      <td>4.0</td>\n",
       "      <td>3.0</td>\n",
       "      <td>18.0</td>\n",
       "      <td>31.0</td>\n",
       "      <td>0.0</td>\n",
       "    </tr>\n",
       "  </tbody>\n",
       "</table>\n",
       "</div>"
      ],
      "text/plain": [
       "  astro id.1 flight status.4 Cell Number.6  Image File Number.7  \\\n",
       "0       2171    mid-flight 1             1                  4.0   \n",
       "\n",
       "   # of Fragile Telos.1  # of STL-complete.1  #  of STL-hetero.1  \\\n",
       "0                   3.0                 18.0                31.0   \n",
       "\n",
       "   #  of potential threaded chr.1  \n",
       "0                             0.0  "
      ]
     },
     "metadata": {},
     "output_type": "display_data"
    },
    {
     "data": {
      "text/html": [
       "<div>\n",
       "<style scoped>\n",
       "    .dataframe tbody tr th:only-of-type {\n",
       "        vertical-align: middle;\n",
       "    }\n",
       "\n",
       "    .dataframe tbody tr th {\n",
       "        vertical-align: top;\n",
       "    }\n",
       "\n",
       "    .dataframe thead th {\n",
       "        text-align: right;\n",
       "    }\n",
       "</style>\n",
       "<table border=\"1\" class=\"dataframe\">\n",
       "  <thead>\n",
       "    <tr style=\"text-align: right;\">\n",
       "      <th></th>\n",
       "      <th>astro id.2</th>\n",
       "      <th>flight status.5</th>\n",
       "      <th>Cell Number.7</th>\n",
       "      <th>Image File Number.8</th>\n",
       "      <th># of Fragile Telos.2</th>\n",
       "      <th># of STL-complete.2</th>\n",
       "      <th>#  of STL-hetero.2</th>\n",
       "      <th>#  of potential threaded chr.2</th>\n",
       "    </tr>\n",
       "  </thead>\n",
       "  <tbody>\n",
       "    <tr>\n",
       "      <th>0</th>\n",
       "      <td>2171.0</td>\n",
       "      <td>mid-flight 2</td>\n",
       "      <td>1.0</td>\n",
       "      <td>2.0</td>\n",
       "      <td>1.0</td>\n",
       "      <td>18.0</td>\n",
       "      <td>32.0</td>\n",
       "      <td>0.0</td>\n",
       "    </tr>\n",
       "  </tbody>\n",
       "</table>\n",
       "</div>"
      ],
      "text/plain": [
       "   astro id.2 flight status.5  Cell Number.7  Image File Number.8  \\\n",
       "0      2171.0    mid-flight 2            1.0                  2.0   \n",
       "\n",
       "   # of Fragile Telos.2  # of STL-complete.2  #  of STL-hetero.2  \\\n",
       "0                   1.0                 18.0                32.0   \n",
       "\n",
       "   #  of potential threaded chr.2  \n",
       "0                             0.0  "
      ]
     },
     "metadata": {},
     "output_type": "display_data"
    },
    {
     "data": {
      "text/html": [
       "<div>\n",
       "<style scoped>\n",
       "    .dataframe tbody tr th:only-of-type {\n",
       "        vertical-align: middle;\n",
       "    }\n",
       "\n",
       "    .dataframe tbody tr th {\n",
       "        vertical-align: top;\n",
       "    }\n",
       "\n",
       "    .dataframe thead th {\n",
       "        text-align: right;\n",
       "    }\n",
       "</style>\n",
       "<table border=\"1\" class=\"dataframe\">\n",
       "  <thead>\n",
       "    <tr style=\"text-align: right;\">\n",
       "      <th></th>\n",
       "      <th>astro id.3</th>\n",
       "      <th>flight status.6</th>\n",
       "      <th>Cell Number.9</th>\n",
       "      <th>Image File Number.10</th>\n",
       "      <th># of Fragile Telos.4</th>\n",
       "      <th># of STL-complete.4</th>\n",
       "      <th>#  of STL-hetero.4</th>\n",
       "      <th>#  of potential threaded chr.4</th>\n",
       "    </tr>\n",
       "  </thead>\n",
       "  <tbody>\n",
       "    <tr>\n",
       "      <th>0</th>\n",
       "      <td>2171.0</td>\n",
       "      <td>post-flight</td>\n",
       "      <td>1.0</td>\n",
       "      <td>1.0</td>\n",
       "      <td>2.0</td>\n",
       "      <td>15.0</td>\n",
       "      <td>10.0</td>\n",
       "      <td>0.0</td>\n",
       "    </tr>\n",
       "  </tbody>\n",
       "</table>\n",
       "</div>"
      ],
      "text/plain": [
       "   astro id.3 flight status.6  Cell Number.9  Image File Number.10  \\\n",
       "0      2171.0     post-flight            1.0                   1.0   \n",
       "\n",
       "   # of Fragile Telos.4  # of STL-complete.4  #  of STL-hetero.4  \\\n",
       "0                   2.0                 15.0                10.0   \n",
       "\n",
       "   #  of potential threaded chr.4  \n",
       "0                             0.0  "
      ]
     },
     "metadata": {},
     "output_type": "display_data"
    }
   ],
   "source": [
    "# parsing pre-flight, midflight 1/2, and post-flight telomeric aberration data\n",
    "\n",
    "pre_f_telo_aberr = nasa_chr_data.iloc[0:90, 147:155]\n",
    "mid_f1_telo_aberr = nasa_chr_data.iloc[0:90, 155:163]\n",
    "mid_f2_telo_aberr = nasa_chr_data.iloc[0:90, 163:171]\n",
    "post_f_telo_aberr = nasa_chr_data.iloc[0:90, 179:187]\n",
    "\n",
    "print(pre_f_telo_aberr.columns)\n",
    "\n",
    "display(\n",
    "pre_f_telo_aberr.head(1),\n",
    "mid_f1_telo_aberr.head(1),\n",
    "mid_f2_telo_aberr.head(1),\n",
    "post_f_telo_aberr.head(1))"
   ]
  },
  {
   "cell_type": "markdown",
   "metadata": {},
   "source": [
    "### Renaming columns to avoid formatting errors"
   ]
  },
  {
   "cell_type": "code",
   "execution_count": 29,
   "metadata": {},
   "outputs": [],
   "source": [
    "# we need to rename the columns for these sheets; column names were changed in loading\n",
    "\n",
    "telo_aberr_cols = ['astro id', 'flight status', 'Cell Number',\n",
    "       'Image File Number', '# of Fragile Telos', '# of STL-complete',\n",
    "       '# of STL-hetero', '# of sat associations']\n",
    "\n",
    "pre_f_telo_aberr.columns = telo_aberr_cols\n",
    "mid_f1_telo_aberr.columns = telo_aberr_cols\n",
    "mid_f2_telo_aberr.columns = telo_aberr_cols\n",
    "post_f_telo_aberr.columns = telo_aberr_cols"
   ]
  },
  {
   "cell_type": "markdown",
   "metadata": {},
   "source": [
    "### Combining pre-flight, midflight1&2, post-flight telomeric aberr data into one dataframe"
   ]
  },
  {
   "cell_type": "code",
   "execution_count": 30,
   "metadata": {},
   "outputs": [
    {
     "name": "stdout",
     "output_type": "stream",
     "text": [
      "(360, 6)\n"
     ]
    },
    {
     "data": {
      "text/html": [
       "<div>\n",
       "<style scoped>\n",
       "    .dataframe tbody tr th:only-of-type {\n",
       "        vertical-align: middle;\n",
       "    }\n",
       "\n",
       "    .dataframe tbody tr th {\n",
       "        vertical-align: top;\n",
       "    }\n",
       "\n",
       "    .dataframe thead th {\n",
       "        text-align: right;\n",
       "    }\n",
       "</style>\n",
       "<table border=\"1\" class=\"dataframe\">\n",
       "  <thead>\n",
       "    <tr style=\"text-align: right;\">\n",
       "      <th></th>\n",
       "      <th>astro id</th>\n",
       "      <th>flight status</th>\n",
       "      <th># of Fragile Telos</th>\n",
       "      <th># of STL-complete</th>\n",
       "      <th># of STL-hetero</th>\n",
       "      <th># of sat associations</th>\n",
       "    </tr>\n",
       "  </thead>\n",
       "  <tbody>\n",
       "    <tr>\n",
       "      <th>0</th>\n",
       "      <td>2171</td>\n",
       "      <td>pre-flight</td>\n",
       "      <td>1</td>\n",
       "      <td>10</td>\n",
       "      <td>15</td>\n",
       "      <td>0</td>\n",
       "    </tr>\n",
       "    <tr>\n",
       "      <th>1</th>\n",
       "      <td>2171</td>\n",
       "      <td>pre-flight</td>\n",
       "      <td>1</td>\n",
       "      <td>13</td>\n",
       "      <td>15</td>\n",
       "      <td>0</td>\n",
       "    </tr>\n",
       "    <tr>\n",
       "      <th>2</th>\n",
       "      <td>2171</td>\n",
       "      <td>pre-flight</td>\n",
       "      <td>0</td>\n",
       "      <td>13</td>\n",
       "      <td>9</td>\n",
       "      <td>0</td>\n",
       "    </tr>\n",
       "    <tr>\n",
       "      <th>3</th>\n",
       "      <td>2171</td>\n",
       "      <td>pre-flight</td>\n",
       "      <td>2</td>\n",
       "      <td>6</td>\n",
       "      <td>12</td>\n",
       "      <td>0</td>\n",
       "    </tr>\n",
       "  </tbody>\n",
       "</table>\n",
       "</div>"
      ],
      "text/plain": [
       "  astro id flight status # of Fragile Telos # of STL-complete # of STL-hetero  \\\n",
       "0     2171    pre-flight                  1                10              15   \n",
       "1     2171    pre-flight                  1                13              15   \n",
       "2     2171    pre-flight                  0                13               9   \n",
       "3     2171    pre-flight                  2                 6              12   \n",
       "\n",
       "  # of sat associations  \n",
       "0                     0  \n",
       "1                     0  \n",
       "2                     0  \n",
       "3                     0  "
      ]
     },
     "execution_count": 30,
     "metadata": {},
     "output_type": "execute_result"
    }
   ],
   "source": [
    "all_astro_telo_aberr = pd.concat([pre_f_telo_aberr, mid_f1_telo_aberr, mid_f2_telo_aberr, post_f_telo_aberr], axis=0, ignore_index=True)\n",
    "all_astro_telo_aberr = all_astro_telo_aberr.drop(['Cell Number', 'Image File Number'], axis=1)\n",
    "\n",
    "print(all_astro_telo_aberr.shape)\n",
    "all_astro_telo_aberr.head(4)"
   ]
  },
  {
   "cell_type": "markdown",
   "metadata": {},
   "source": [
    "### Saving all telomeric aberration data to dataframe for later retrieval"
   ]
  },
  {
   "cell_type": "code",
   "execution_count": 31,
   "metadata": {},
   "outputs": [],
   "source": [
    "all_astro_telo_aberr.to_csv('../excel data/All_astronauts_telomeric_aberrations.csv', index = False)"
   ]
  },
  {
   "cell_type": "markdown",
   "metadata": {},
   "source": [
    "### Making a tidy-data formatted dataframe for telomeric aberration data"
   ]
  },
  {
   "cell_type": "code",
   "execution_count": 32,
   "metadata": {},
   "outputs": [
    {
     "data": {
      "text/html": [
       "<div>\n",
       "<style scoped>\n",
       "    .dataframe tbody tr th:only-of-type {\n",
       "        vertical-align: middle;\n",
       "    }\n",
       "\n",
       "    .dataframe tbody tr th {\n",
       "        vertical-align: top;\n",
       "    }\n",
       "\n",
       "    .dataframe thead th {\n",
       "        text-align: right;\n",
       "    }\n",
       "</style>\n",
       "<table border=\"1\" class=\"dataframe\">\n",
       "  <thead>\n",
       "    <tr style=\"text-align: right;\">\n",
       "      <th></th>\n",
       "      <th>astro id</th>\n",
       "      <th>flight status</th>\n",
       "      <th>aberration type</th>\n",
       "      <th>count per cell</th>\n",
       "    </tr>\n",
       "  </thead>\n",
       "  <tbody>\n",
       "    <tr>\n",
       "      <th>0</th>\n",
       "      <td>2171</td>\n",
       "      <td>pre-flight</td>\n",
       "      <td># of Fragile Telos</td>\n",
       "      <td>1</td>\n",
       "    </tr>\n",
       "    <tr>\n",
       "      <th>1</th>\n",
       "      <td>2171</td>\n",
       "      <td>pre-flight</td>\n",
       "      <td># of Fragile Telos</td>\n",
       "      <td>1</td>\n",
       "    </tr>\n",
       "    <tr>\n",
       "      <th>2</th>\n",
       "      <td>2171</td>\n",
       "      <td>pre-flight</td>\n",
       "      <td># of Fragile Telos</td>\n",
       "      <td>0</td>\n",
       "    </tr>\n",
       "    <tr>\n",
       "      <th>3</th>\n",
       "      <td>2171</td>\n",
       "      <td>pre-flight</td>\n",
       "      <td># of Fragile Telos</td>\n",
       "      <td>2</td>\n",
       "    </tr>\n",
       "  </tbody>\n",
       "</table>\n",
       "</div>"
      ],
      "text/plain": [
       "  astro id flight status     aberration type count per cell\n",
       "0     2171    pre-flight  # of Fragile Telos              1\n",
       "1     2171    pre-flight  # of Fragile Telos              1\n",
       "2     2171    pre-flight  # of Fragile Telos              0\n",
       "3     2171    pre-flight  # of Fragile Telos              2"
      ]
     },
     "execution_count": 32,
     "metadata": {},
     "output_type": "execute_result"
    }
   ],
   "source": [
    "melt_all_astro_telo_aberr = pd.melt(all_astro_telo_aberr,\n",
    "                                   id_vars=['astro id', 'flight status'],\n",
    "                                   var_name='aberration type',\n",
    "                                   value_name='count per cell')\n",
    "\n",
    "melt_all_astro_telo_aberr.head(4)"
   ]
  },
  {
   "cell_type": "markdown",
   "metadata": {},
   "source": [
    "### Saving telomeric aberration in tidy-data format dataframe for later retrieval"
   ]
  },
  {
   "cell_type": "code",
   "execution_count": 33,
   "metadata": {},
   "outputs": [],
   "source": [
    "melt_all_astro_telo_aberr.to_csv('../excel data/melt_all_astro_telo_aberr.csv', index = False)"
   ]
  },
  {
   "cell_type": "markdown",
   "metadata": {},
   "source": [
    "### Parsing pre-flight, midflight1&2, and post-flight chromosome rearrangement data"
   ]
  },
  {
   "cell_type": "code",
   "execution_count": 34,
   "metadata": {},
   "outputs": [],
   "source": [
    "# parsing pre-flight, midflight 1/2, and post-flight chromosome rearrangement data\n",
    "\n",
    "pre_f = nasa_chr_data.iloc[0:404, 1:15]\n",
    "mid_f_1 = nasa_chr_data.iloc[35:109, 25:39]\n",
    "mid_f_2 = nasa_chr_data.iloc[0:111, 49:63]\n",
    "post_f = nasa_chr_data.iloc[0:400, 96:110]"
   ]
  },
  {
   "cell_type": "code",
   "execution_count": 35,
   "metadata": {},
   "outputs": [],
   "source": [
    "# renaming columns to avoid errors when combining dataframes\n",
    "\n",
    "chr_aberr_cols = ['astro id', 'flight status', 'cell number', 'image file number', \n",
    "                  'dicentrics', 'translocations', 'inversions', \n",
    "                  'terminal inversions', 'terminal SCEs paint cis', \n",
    "                  'terminal SCEs dark cis', 'subtelo SCEs', \n",
    "                  'sister chromatid exchanges', 'insertions', 'satellite associations']\n",
    "\n",
    "pre_f.columns = chr_aberr_cols\n",
    "mid_f_1.columns = chr_aberr_cols\n",
    "mid_f_2.columns = chr_aberr_cols\n",
    "post_f.columns = chr_aberr_cols"
   ]
  },
  {
   "cell_type": "markdown",
   "metadata": {},
   "source": [
    "### Combining chromosome rearrangement data"
   ]
  },
  {
   "cell_type": "code",
   "execution_count": 36,
   "metadata": {},
   "outputs": [
    {
     "name": "stdout",
     "output_type": "stream",
     "text": [
      "Index(['astro id', 'flight status', 'dicentrics', 'translocations',\n",
      "       'inversions', 'terminal inversions', 'terminal SCEs paint cis',\n",
      "       'terminal SCEs dark cis', 'subtelo SCEs', 'sister chromatid exchanges',\n",
      "       'satellite associations'],\n",
      "      dtype='object')\n"
     ]
    },
    {
     "data": {
      "text/html": [
       "<div>\n",
       "<style scoped>\n",
       "    .dataframe tbody tr th:only-of-type {\n",
       "        vertical-align: middle;\n",
       "    }\n",
       "\n",
       "    .dataframe tbody tr th {\n",
       "        vertical-align: top;\n",
       "    }\n",
       "\n",
       "    .dataframe thead th {\n",
       "        text-align: right;\n",
       "    }\n",
       "</style>\n",
       "<table border=\"1\" class=\"dataframe\">\n",
       "  <thead>\n",
       "    <tr style=\"text-align: right;\">\n",
       "      <th></th>\n",
       "      <th>astro id</th>\n",
       "      <th>flight status</th>\n",
       "      <th>dicentrics</th>\n",
       "      <th>translocations</th>\n",
       "      <th>inversions</th>\n",
       "      <th>terminal inversions</th>\n",
       "      <th>terminal SCEs paint cis</th>\n",
       "      <th>terminal SCEs dark cis</th>\n",
       "      <th>subtelo SCEs</th>\n",
       "      <th>sister chromatid exchanges</th>\n",
       "      <th>satellite associations</th>\n",
       "    </tr>\n",
       "  </thead>\n",
       "  <tbody>\n",
       "    <tr>\n",
       "      <th>0</th>\n",
       "      <td>2171</td>\n",
       "      <td>pre-flight</td>\n",
       "      <td>0</td>\n",
       "      <td>0</td>\n",
       "      <td>0</td>\n",
       "      <td>0</td>\n",
       "      <td>2</td>\n",
       "      <td>0</td>\n",
       "      <td>1</td>\n",
       "      <td>1</td>\n",
       "      <td>0</td>\n",
       "    </tr>\n",
       "    <tr>\n",
       "      <th>1</th>\n",
       "      <td>2171</td>\n",
       "      <td>pre-flight</td>\n",
       "      <td>0</td>\n",
       "      <td>0</td>\n",
       "      <td>0</td>\n",
       "      <td>0</td>\n",
       "      <td>0</td>\n",
       "      <td>0</td>\n",
       "      <td>0</td>\n",
       "      <td>0</td>\n",
       "      <td>0</td>\n",
       "    </tr>\n",
       "    <tr>\n",
       "      <th>2</th>\n",
       "      <td>2171</td>\n",
       "      <td>pre-flight</td>\n",
       "      <td>0</td>\n",
       "      <td>1</td>\n",
       "      <td>0</td>\n",
       "      <td>0</td>\n",
       "      <td>1</td>\n",
       "      <td>0</td>\n",
       "      <td>0</td>\n",
       "      <td>0</td>\n",
       "      <td>0</td>\n",
       "    </tr>\n",
       "    <tr>\n",
       "      <th>3</th>\n",
       "      <td>2171</td>\n",
       "      <td>pre-flight</td>\n",
       "      <td>0</td>\n",
       "      <td>0</td>\n",
       "      <td>0</td>\n",
       "      <td>0</td>\n",
       "      <td>1</td>\n",
       "      <td>0</td>\n",
       "      <td>1</td>\n",
       "      <td>0</td>\n",
       "      <td>0</td>\n",
       "    </tr>\n",
       "  </tbody>\n",
       "</table>\n",
       "</div>"
      ],
      "text/plain": [
       "  astro id flight status dicentrics translocations inversions  \\\n",
       "0     2171    pre-flight          0              0          0   \n",
       "1     2171    pre-flight          0              0          0   \n",
       "2     2171    pre-flight          0              1          0   \n",
       "3     2171    pre-flight          0              0          0   \n",
       "\n",
       "  terminal inversions terminal SCEs paint cis terminal SCEs dark cis  \\\n",
       "0                   0                       2                      0   \n",
       "1                   0                       0                      0   \n",
       "2                   0                       1                      0   \n",
       "3                   0                       1                      0   \n",
       "\n",
       "  subtelo SCEs sister chromatid exchanges satellite associations  \n",
       "0            1                          1                      0  \n",
       "1            0                          0                      0  \n",
       "2            0                          0                      0  \n",
       "3            1                          0                      0  "
      ]
     },
     "execution_count": 36,
     "metadata": {},
     "output_type": "execute_result"
    }
   ],
   "source": [
    "all_astro_chr_aberr = pd.concat([pre_f, mid_f_1, mid_f_2, post_f], axis=0, ignore_index=True)\n",
    "all_astro_chr_aberr = all_astro_chr_aberr.drop(['cell number', 'image file number', 'insertions'], \n",
    "                                               axis=1).dropna().reset_index(drop=True)\n",
    "print(all_astro_chr_aberr.columns)\n",
    "all_astro_chr_aberr.head(4)"
   ]
  },
  {
   "cell_type": "markdown",
   "metadata": {},
   "source": [
    "### Generating total inversions & terminal SCEs columns"
   ]
  },
  {
   "cell_type": "code",
   "execution_count": 37,
   "metadata": {},
   "outputs": [],
   "source": [
    "all_astro_chr_aberr['total inversions'] = all_astro_chr_aberr['terminal inversions'] + all_astro_chr_aberr['inversions']\n",
    "all_astro_chr_aberr['terminal SCEs'] = all_astro_chr_aberr['terminal SCEs paint cis'] + all_astro_chr_aberr['terminal SCEs dark cis']"
   ]
  },
  {
   "cell_type": "markdown",
   "metadata": {},
   "source": [
    "### Saving all astronauts chr aberr to csv for later retrieval "
   ]
  },
  {
   "cell_type": "code",
   "execution_count": 38,
   "metadata": {},
   "outputs": [],
   "source": [
    "all_astro_chr_aberr.to_csv('../excel data/all_astro_chr_aberr.csv', index=False)"
   ]
  },
  {
   "cell_type": "markdown",
   "metadata": {},
   "source": [
    "### Generating tidy-data formatted dataframe for all astronaut chromosome rearrangement data "
   ]
  },
  {
   "cell_type": "code",
   "execution_count": 39,
   "metadata": {},
   "outputs": [
    {
     "data": {
      "text/html": [
       "<div>\n",
       "<style scoped>\n",
       "    .dataframe tbody tr th:only-of-type {\n",
       "        vertical-align: middle;\n",
       "    }\n",
       "\n",
       "    .dataframe tbody tr th {\n",
       "        vertical-align: top;\n",
       "    }\n",
       "\n",
       "    .dataframe thead th {\n",
       "        text-align: right;\n",
       "    }\n",
       "</style>\n",
       "<table border=\"1\" class=\"dataframe\">\n",
       "  <thead>\n",
       "    <tr style=\"text-align: right;\">\n",
       "      <th></th>\n",
       "      <th>astro id</th>\n",
       "      <th>flight status</th>\n",
       "      <th>aberration type</th>\n",
       "      <th>count per cell</th>\n",
       "    </tr>\n",
       "  </thead>\n",
       "  <tbody>\n",
       "    <tr>\n",
       "      <th>0</th>\n",
       "      <td>2171</td>\n",
       "      <td>pre-flight</td>\n",
       "      <td>dicentrics</td>\n",
       "      <td>0</td>\n",
       "    </tr>\n",
       "    <tr>\n",
       "      <th>1</th>\n",
       "      <td>2171</td>\n",
       "      <td>pre-flight</td>\n",
       "      <td>dicentrics</td>\n",
       "      <td>0</td>\n",
       "    </tr>\n",
       "    <tr>\n",
       "      <th>2</th>\n",
       "      <td>2171</td>\n",
       "      <td>pre-flight</td>\n",
       "      <td>dicentrics</td>\n",
       "      <td>0</td>\n",
       "    </tr>\n",
       "    <tr>\n",
       "      <th>3</th>\n",
       "      <td>2171</td>\n",
       "      <td>pre-flight</td>\n",
       "      <td>dicentrics</td>\n",
       "      <td>0</td>\n",
       "    </tr>\n",
       "  </tbody>\n",
       "</table>\n",
       "</div>"
      ],
      "text/plain": [
       "  astro id flight status aberration type count per cell\n",
       "0     2171    pre-flight      dicentrics              0\n",
       "1     2171    pre-flight      dicentrics              0\n",
       "2     2171    pre-flight      dicentrics              0\n",
       "3     2171    pre-flight      dicentrics              0"
      ]
     },
     "execution_count": 39,
     "metadata": {},
     "output_type": "execute_result"
    }
   ],
   "source": [
    "copy_all_astro_chr_aberr = all_astro_chr_aberr.drop(['terminal inversions', 'inversions', \n",
    "                                                     'terminal SCEs paint cis', 'terminal SCEs dark cis'], axis=1)\n",
    "\n",
    "melt_all_astro_chr_aberr = pd.melt(copy_all_astro_chr_aberr,\n",
    "       id_vars=['astro id', 'flight status'],\n",
    "       var_name='aberration type',\n",
    "       value_name='count per cell')\n",
    "\n",
    "melt_all_astro_chr_aberr.head(4)"
   ]
  },
  {
   "cell_type": "markdown",
   "metadata": {},
   "source": [
    "### Saving all astronaut chromosome rearrangement data in tidy-data format for later retrieval"
   ]
  },
  {
   "cell_type": "code",
   "execution_count": 40,
   "metadata": {},
   "outputs": [],
   "source": [
    "melt_all_astro_chr_aberr.to_csv('../excel data/All_astronauts_chromosome_aberration_data_tidy_data.csv', index=False)"
   ]
  }
 ],
 "metadata": {
  "kernelspec": {
   "display_name": "Python 3",
   "language": "python",
   "name": "python3"
  },
  "language_info": {
   "codemirror_mode": {
    "name": "ipython",
    "version": 3
   },
   "file_extension": ".py",
   "mimetype": "text/x-python",
   "name": "python",
   "nbconvert_exporter": "python",
   "pygments_lexer": "ipython3",
   "version": "3.7.4"
  }
 },
 "nbformat": 4,
 "nbformat_minor": 2
}
