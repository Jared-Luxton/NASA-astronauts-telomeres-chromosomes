{
 "cells": [
  {
   "cell_type": "code",
   "execution_count": 139,
   "metadata": {},
   "outputs": [],
   "source": [
    "# tools for handling files\n",
    "import sys\n",
    "import os\n",
    "\n",
    "# pandas/numpy for handling data\n",
    "import pandas as pd\n",
    "import numpy as np\n",
    "from pandas import ExcelWriter\n",
    "from pandas import ExcelFile\n",
    "\n",
    "# seaborn/matplotlib for graphing\n",
    "import matplotlib.pyplot as plt\n",
    "from matplotlib.ticker import StrMethodFormatter\n",
    "from matplotlib import colors\n",
    "from matplotlib.ticker import PercentFormatter\n",
    "import seaborn as sns\n",
    "from ptitprince import PtitPrince as pt\n",
    "\n",
    "# statistics\n",
    "from statistics import mean \n",
    "import statsmodels.api as sm\n",
    "from statsmodels.formula.api import ols\n",
    "from scipy import stats\n",
    "\n",
    "# for reading individual telomere length data from files\n",
    "from ast import literal_eval\n",
    "\n",
    "# for grabbing individual cells\n",
    "import more_itertools"
   ]
  },
  {
   "cell_type": "code",
   "execution_count": 140,
   "metadata": {},
   "outputs": [],
   "source": [
    "chr_data = 'Chromosome_Aberrations_telodGH_unrelatedAstros+SK_complete_TeloAberr_astros125___graphs_7_17_19_227pm.xlsx'\n",
    "nasa_chr_data = pd.read_excel(chr_data)"
   ]
  },
  {
   "cell_type": "code",
   "execution_count": 141,
   "metadata": {},
   "outputs": [],
   "source": [
    "#pre-flight chr aberr data\n",
    "pre_f = nasa_chr_data.iloc[0:404, 1:15]\n",
    "#grabbing column names to avoid formatting errors from excel\n",
    "chr_aberr_cols = pre_f.columns"
   ]
  },
  {
   "cell_type": "code",
   "execution_count": 142,
   "metadata": {},
   "outputs": [],
   "source": [
    "chr_aberr_cols = ['astro id', 'flight status', 'cell number', 'image file number', \n",
    "                  'dicentrics', 'translocations', 'inversions', \n",
    "                  'terminal inversions', 'terminal SCEs paint cis', \n",
    "                  'terminal SCEs dark cis', 'subtelo SCEs', \n",
    "                  'sister chromatid exchanges', 'insertions', 'satellite associations']"
   ]
  },
  {
   "cell_type": "code",
   "execution_count": 143,
   "metadata": {},
   "outputs": [],
   "source": [
    "pre_f.columns = chr_aberr_cols\n",
    "\n",
    "#mid-flight 1 chr aberr data\n",
    "mid_f_1 = nasa_chr_data.iloc[35:109, 25:39]\n",
    "mid_f_1.columns = chr_aberr_cols\n",
    "\n",
    "#mid-flight 2 chr aberr data\n",
    "mid_f_2 = nasa_chr_data.iloc[0:111, 49:63]\n",
    "mid_f_2.columns = chr_aberr_cols\n",
    "\n",
    "#post-flight chr aberr data\n",
    "post_f = nasa_chr_data.iloc[0:400, 96:110]\n",
    "post_f.columns = chr_aberr_cols"
   ]
  },
  {
   "cell_type": "code",
   "execution_count": 144,
   "metadata": {},
   "outputs": [
    {
     "name": "stdout",
     "output_type": "stream",
     "text": [
      "Index(['astro id', 'flight status', 'dicentrics', 'translocations',\n",
      "       'inversions', 'terminal inversions', 'terminal SCEs paint cis',\n",
      "       'terminal SCEs dark cis', 'subtelo SCEs', 'sister chromatid exchanges',\n",
      "       'satellite associations'],\n",
      "      dtype='object')\n"
     ]
    },
    {
     "data": {
      "text/html": [
       "<div>\n",
       "<style scoped>\n",
       "    .dataframe tbody tr th:only-of-type {\n",
       "        vertical-align: middle;\n",
       "    }\n",
       "\n",
       "    .dataframe tbody tr th {\n",
       "        vertical-align: top;\n",
       "    }\n",
       "\n",
       "    .dataframe thead th {\n",
       "        text-align: right;\n",
       "    }\n",
       "</style>\n",
       "<table border=\"1\" class=\"dataframe\">\n",
       "  <thead>\n",
       "    <tr style=\"text-align: right;\">\n",
       "      <th></th>\n",
       "      <th>astro id</th>\n",
       "      <th>flight status</th>\n",
       "      <th>dicentrics</th>\n",
       "      <th>translocations</th>\n",
       "      <th>inversions</th>\n",
       "      <th>terminal inversions</th>\n",
       "      <th>terminal SCEs paint cis</th>\n",
       "      <th>terminal SCEs dark cis</th>\n",
       "      <th>subtelo SCEs</th>\n",
       "      <th>sister chromatid exchanges</th>\n",
       "      <th>satellite associations</th>\n",
       "    </tr>\n",
       "  </thead>\n",
       "  <tbody>\n",
       "    <tr>\n",
       "      <th>0</th>\n",
       "      <td>2171</td>\n",
       "      <td>pre-flight</td>\n",
       "      <td>0</td>\n",
       "      <td>0</td>\n",
       "      <td>0</td>\n",
       "      <td>0</td>\n",
       "      <td>2</td>\n",
       "      <td>0</td>\n",
       "      <td>1</td>\n",
       "      <td>1</td>\n",
       "      <td>0</td>\n",
       "    </tr>\n",
       "    <tr>\n",
       "      <th>1</th>\n",
       "      <td>2171</td>\n",
       "      <td>pre-flight</td>\n",
       "      <td>0</td>\n",
       "      <td>0</td>\n",
       "      <td>0</td>\n",
       "      <td>0</td>\n",
       "      <td>0</td>\n",
       "      <td>0</td>\n",
       "      <td>0</td>\n",
       "      <td>0</td>\n",
       "      <td>0</td>\n",
       "    </tr>\n",
       "    <tr>\n",
       "      <th>2</th>\n",
       "      <td>2171</td>\n",
       "      <td>pre-flight</td>\n",
       "      <td>0</td>\n",
       "      <td>1</td>\n",
       "      <td>0</td>\n",
       "      <td>0</td>\n",
       "      <td>1</td>\n",
       "      <td>0</td>\n",
       "      <td>0</td>\n",
       "      <td>0</td>\n",
       "      <td>0</td>\n",
       "    </tr>\n",
       "    <tr>\n",
       "      <th>3</th>\n",
       "      <td>2171</td>\n",
       "      <td>pre-flight</td>\n",
       "      <td>0</td>\n",
       "      <td>0</td>\n",
       "      <td>0</td>\n",
       "      <td>0</td>\n",
       "      <td>1</td>\n",
       "      <td>0</td>\n",
       "      <td>1</td>\n",
       "      <td>0</td>\n",
       "      <td>0</td>\n",
       "    </tr>\n",
       "  </tbody>\n",
       "</table>\n",
       "</div>"
      ],
      "text/plain": [
       "  astro id flight status dicentrics translocations inversions  \\\n",
       "0     2171    pre-flight          0              0          0   \n",
       "1     2171    pre-flight          0              0          0   \n",
       "2     2171    pre-flight          0              1          0   \n",
       "3     2171    pre-flight          0              0          0   \n",
       "\n",
       "  terminal inversions terminal SCEs paint cis terminal SCEs dark cis  \\\n",
       "0                   0                       2                      0   \n",
       "1                   0                       0                      0   \n",
       "2                   0                       1                      0   \n",
       "3                   0                       1                      0   \n",
       "\n",
       "  subtelo SCEs sister chromatid exchanges satellite associations  \n",
       "0            1                          1                      0  \n",
       "1            0                          0                      0  \n",
       "2            0                          0                      0  \n",
       "3            1                          0                      0  "
      ]
     },
     "execution_count": 144,
     "metadata": {},
     "output_type": "execute_result"
    }
   ],
   "source": [
    "all_astro_chr_aberr = pd.concat([pre_f, mid_f_1, mid_f_2, post_f], axis=0, ignore_index=True)\n",
    "all_astro_chr_aberr = all_astro_chr_aberr.drop(['cell number', 'image file number', 'insertions'], \n",
    "                                               axis=1).dropna().reset_index(drop=True)\n",
    "print(all_astro_chr_aberr.columns)\n",
    "all_astro_chr_aberr.head(4)"
   ]
  },
  {
   "cell_type": "code",
   "execution_count": 146,
   "metadata": {},
   "outputs": [],
   "source": [
    "all_astro_chr_aberr['total inversions'] = all_astro_chr_aberr['terminal inversions'] + all_astro_chr_aberr['inversions']\n",
    "all_astro_chr_aberr['terminal SCEs'] = all_astro_chr_aberr['terminal SCEs paint cis'] + all_astro_chr_aberr['terminal SCEs dark cis']\n",
    "\n",
    "combine_inv_termSCEs_all_astro_chr_aberr = all_astro_chr_aberr.drop(['terminal inversions', 'inversions', \n",
    "                                                                     'terminal SCEs paint cis', 'terminal SCEs dark cis'], axis=1)"
   ]
  },
  {
   "cell_type": "code",
   "execution_count": 148,
   "metadata": {},
   "outputs": [],
   "source": [
    "# all_astro_chr_aberr"
   ]
  },
  {
   "cell_type": "code",
   "execution_count": 8,
   "metadata": {},
   "outputs": [
    {
     "data": {
      "text/html": [
       "<div>\n",
       "<style scoped>\n",
       "    .dataframe tbody tr th:only-of-type {\n",
       "        vertical-align: middle;\n",
       "    }\n",
       "\n",
       "    .dataframe tbody tr th {\n",
       "        vertical-align: top;\n",
       "    }\n",
       "\n",
       "    .dataframe thead th {\n",
       "        text-align: right;\n",
       "    }\n",
       "</style>\n",
       "<table border=\"1\" class=\"dataframe\">\n",
       "  <thead>\n",
       "    <tr style=\"text-align: right;\">\n",
       "      <th></th>\n",
       "      <th>astro id</th>\n",
       "      <th>flight status</th>\n",
       "      <th>aberration type</th>\n",
       "      <th>count per cell</th>\n",
       "    </tr>\n",
       "  </thead>\n",
       "  <tbody>\n",
       "    <tr>\n",
       "      <th>0</th>\n",
       "      <td>2171</td>\n",
       "      <td>pre-flight</td>\n",
       "      <td>dicentrics</td>\n",
       "      <td>0</td>\n",
       "    </tr>\n",
       "    <tr>\n",
       "      <th>1</th>\n",
       "      <td>2171</td>\n",
       "      <td>pre-flight</td>\n",
       "      <td>dicentrics</td>\n",
       "      <td>0</td>\n",
       "    </tr>\n",
       "    <tr>\n",
       "      <th>2</th>\n",
       "      <td>2171</td>\n",
       "      <td>pre-flight</td>\n",
       "      <td>dicentrics</td>\n",
       "      <td>0</td>\n",
       "    </tr>\n",
       "    <tr>\n",
       "      <th>3</th>\n",
       "      <td>2171</td>\n",
       "      <td>pre-flight</td>\n",
       "      <td>dicentrics</td>\n",
       "      <td>0</td>\n",
       "    </tr>\n",
       "  </tbody>\n",
       "</table>\n",
       "</div>"
      ],
      "text/plain": [
       "  astro id flight status aberration type count per cell\n",
       "0     2171    pre-flight      dicentrics              0\n",
       "1     2171    pre-flight      dicentrics              0\n",
       "2     2171    pre-flight      dicentrics              0\n",
       "3     2171    pre-flight      dicentrics              0"
      ]
     },
     "execution_count": 8,
     "metadata": {},
     "output_type": "execute_result"
    }
   ],
   "source": [
    "melt_all_astro_chr_aberr = pd.melt(combine_inv_termSCEs_all_astro_chr_aberr,\n",
    "       id_vars=['astro id', 'flight status'],\n",
    "       var_name='aberration type',\n",
    "       value_name='count per cell')\n",
    "\n",
    "melt_all_astro_chr_aberr.head(4)"
   ]
  },
  {
   "cell_type": "code",
   "execution_count": 14,
   "metadata": {},
   "outputs": [
    {
     "data": {
      "text/plain": [
       "Text(0.5, 1.0, 'chr aberr by subtelo dgh: 11 astros, pre-, mid1/2-, post-')"
      ]
     },
     "execution_count": 14,
     "metadata": {},
     "output_type": "execute_result"
    },
    {
     "data": {
      "image/png": "[encoded data removed]",
      "text/plain": [
       "<Figure size 957.85x288 with 1 Axes>"
      ]
     },
     "metadata": {},
     "output_type": "display_data"
    }
   ],
   "source": [
    "order_cat=['dicentrics', 'translocations', 'total inversions', 'terminal SCEs',\n",
    "           'sister chromatid exchanges', 'subtelo SCEs', 'satellite associations']\n",
    "\n",
    "ax = sns.set(font_scale=1)\n",
    "ax = sns.set_style(style=\"darkgrid\",rc= {'patch.edgecolor': 'black'})\n",
    "ax = sns.catplot(x='aberration type', y='count per cell', \n",
    "                 hue='flight status', kind='bar', order=order_cat,                                         \n",
    "                 orient='v', height=4, aspect=3, data=melt_all_astro_chr_aberr)\n",
    "\n",
    "plt.title('chr aberr by subtelo dgh: 11 astros, pre-, mid1/2-, post-', fontsize=16)\n",
    "# height=10, aspect=2.5,\n"
   ]
  },
  {
   "cell_type": "code",
   "execution_count": 99,
   "metadata": {},
   "outputs": [],
   "source": [
    "mid_combined1 = all_astro_chr_aberr.replace('mid-flight 1', 'mid-flight')\n",
    "mid_combined = mid_combined1.replace('mid-flight 2', 'mid-flight')\n",
    "\n",
    "# int64 to avoid making a str ending w/ .0, i.e 2171.0\n",
    "mid_combined['astro id'] = mid_combined['astro id'].astype('int64')\n",
    "\n",
    "# then to str to enable string matching\n",
    "mid_combined['astro id'] = mid_combined['astro id'].astype('str')"
   ]
  },
  {
   "cell_type": "code",
   "execution_count": 100,
   "metadata": {},
   "outputs": [],
   "source": [
    "mid_combined = pd.melt(mid_combined,\n",
    "       id_vars=['astro id', 'flight status'],\n",
    "       var_name='aberration type',\n",
    "       value_name='count per cell')\n"
   ]
  },
  {
   "cell_type": "code",
   "execution_count": 101,
   "metadata": {},
   "outputs": [],
   "source": [
    "# ax = sns.set(font_scale=1)\n",
    "# ax = sns.set_style(style=\"darkgrid\",rc= {'patch.edgecolor': 'black'})\n",
    "# ax = sns.catplot(x='aberration type', y='count per cell', \n",
    "#                  hue='flight status', kind='bar', order=order_cat,                                         \n",
    "#                  orient='v', height=4, aspect=3, data=mid_combined)\n",
    "\n",
    "# plt.title('chr aberr by subtelo dgh: 11 astros, pre-, mid-, post-', fontsize=16)"
   ]
  },
  {
   "cell_type": "code",
   "execution_count": 106,
   "metadata": {},
   "outputs": [],
   "source": [
    "mid_flight_only_astros = mid_combined[(mid_combined['astro id'] == '2171') | \n",
    "                                      (mid_combined['astro id'] == '1536') |\n",
    "                                      (mid_combined['astro id'] == '5163')]"
   ]
  },
  {
   "cell_type": "code",
   "execution_count": 160,
   "metadata": {},
   "outputs": [
    {
     "name": "stdout",
     "output_type": "stream",
     "text": [
      "0.15315315315315314 0.2864864864864865\n"
     ]
    },
    {
     "data": {
      "text/plain": [
       "Ttest_indResult(statistic=-2.1812250417756456, pvalue=0.029958933114816063)"
      ]
     },
     "execution_count": 160,
     "metadata": {},
     "output_type": "execute_result"
    }
   ],
   "source": [
    "print(mid_flight_only_astros[(mid_flight_only_astros['flight status'] == 'pre-flight') &\n",
    "                       (mid_flight_only_astros['aberration type'] == 'total inversions')]['count per cell'].mean(axis=0),\n",
    "\n",
    "mid_flight_only_astros[(mid_flight_only_astros['flight status'] == 'mid-flight') &\n",
    "                       (mid_flight_only_astros['aberration type'] == 'total inversions')]['count per cell'].mean(axis=0))\n",
    "\n",
    "stats.ttest_ind(pre, mid, equal_var=True, axis=0)\n",
    "\n",
    "# pre"
   ]
  },
  {
   "cell_type": "code",
   "execution_count": 131,
   "metadata": {},
   "outputs": [
    {
     "data": {
      "text/plain": [
       "array(['dicentrics', 'translocations', 'inversions',\n",
       "       'terminal inversions', 'terminal SCEs paint cis',\n",
       "       'terminal SCEs dark cis', 'subtelo SCEs',\n",
       "       'sister chromatid exchanges', 'satellite associations',\n",
       "       'total inversions', 'terminal SCEs'], dtype=object)"
      ]
     },
     "execution_count": 131,
     "metadata": {},
     "output_type": "execute_result"
    }
   ],
   "source": [
    "mid_combined['aberration type'].unique()"
   ]
  },
  {
   "cell_type": "code",
   "execution_count": 124,
   "metadata": {},
   "outputs": [
    {
     "data": {
      "text/plain": [
       "Text(0.5, 1.0, 'chr aberr by subtelo dgh: 3 astros, pre-, mid-, post-')"
      ]
     },
     "execution_count": 124,
     "metadata": {},
     "output_type": "execute_result"
    },
    {
     "data": {
      "image/png": "[encoded data removed]",
      "text/plain": [
       "<Figure size 951.6x288 with 1 Axes>"
      ]
     },
     "metadata": {},
     "output_type": "display_data"
    }
   ],
   "source": [
    "order_cat=['dicentrics', 'translocations', 'total inversions', 'terminal SCEs',\n",
    "           'sister chromatid exchanges', 'subtelo SCEs', 'satellite associations']\n",
    "\n",
    "ax = sns.set(font_scale=1)\n",
    "ax = sns.set_style(style=\"darkgrid\",rc= {'patch.edgecolor': 'black'})\n",
    "ax = sns.catplot(x='aberration type', y='count per cell', \n",
    "                 hue='flight status', kind='bar', order=order_cat,                                         \n",
    "                 orient='v', height=4, aspect=3, data=mid_flight_only_astros)\n",
    "\n",
    "plt.title('chr aberr by subtelo dgh: 3 astros, pre-, mid-, post-', fontsize=16)"
   ]
  },
  {
   "cell_type": "code",
   "execution_count": 35,
   "metadata": {},
   "outputs": [],
   "source": [
    "mid_flight_removed = mid_combined[mid_combined['flight status'] != 'mid-flight']"
   ]
  },
  {
   "cell_type": "code",
   "execution_count": 36,
   "metadata": {},
   "outputs": [
    {
     "data": {
      "text/plain": [
       "Text(0.5, 1.0, 'chr aberr by subtelo dgh: 11 astros, pre-, post-')"
      ]
     },
     "execution_count": 36,
     "metadata": {},
     "output_type": "execute_result"
    },
    {
     "data": {
      "image/png": "[encoded data removed]",
      "text/plain": [
       "<Figure size 951.6x288 with 1 Axes>"
      ]
     },
     "metadata": {},
     "output_type": "display_data"
    }
   ],
   "source": [
    "ax = sns.set(font_scale=1)\n",
    "ax = sns.set_style(style=\"darkgrid\",rc= {'patch.edgecolor': 'black'})\n",
    "ax = sns.catplot(x='aberration type', y='count per cell', \n",
    "                 hue='flight status', kind='bar', order=order_cat,                                         \n",
    "                 orient='v', height=4, aspect=3, data=mid_flight_removed)\n",
    "\n",
    "plt.title('chr aberr by subtelo dgh: 11 astros, pre-, post-', fontsize=16)"
   ]
  },
  {
   "cell_type": "code",
   "execution_count": 38,
   "metadata": {},
   "outputs": [],
   "source": [
    "all_astro_chr_aberr.to_csv('All_astronauts_chromosome_aberration_data.csv')\n",
    "melt_all_astro_chr_aberr.to_csv('All_astronauts_chromosome_aberration_data_tidy_data_format.csv')"
   ]
  },
  {
   "cell_type": "code",
   "execution_count": null,
   "metadata": {},
   "outputs": [],
   "source": []
  }
 ],
 "metadata": {
  "kernelspec": {
   "display_name": "Python 3",
   "language": "python",
   "name": "python3"
  },
  "language_info": {
   "codemirror_mode": {
    "name": "ipython",
    "version": 3
   },
   "file_extension": ".py",
   "mimetype": "text/x-python",
   "name": "python",
   "nbconvert_exporter": "python",
   "pygments_lexer": "ipython3",
   "version": "3.7.4"
  }
 },
 "nbformat": 4,
 "nbformat_minor": 2
}
