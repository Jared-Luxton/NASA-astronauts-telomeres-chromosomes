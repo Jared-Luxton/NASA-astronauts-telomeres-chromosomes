{
 "cells": [
  {
   "cell_type": "code",
   "execution_count": 2,
   "metadata": {},
   "outputs": [],
   "source": [
    "# enables access to directories/files\n",
    "import os\n",
    "\n",
    "# general purpose modules for handling data\n",
    "import numpy as np\n",
    "from numpy import array\n",
    "import pandas as pd\n",
    "from pandas import ExcelWriter\n",
    "from pandas import ExcelFile\n",
    "\n",
    "# custom module for handling telomere length data\n",
    "import telomere_methods_astros as telo_ma"
   ]
  },
  {
   "cell_type": "markdown",
   "metadata": {},
   "source": [
    "---\n",
    "##### &nbsp; \n",
    "\n",
    "The telomere length measurements by telomere FISH are stored in individual excel sheets \n",
    "per timepoint per individual. Thus, we have roughly 200 excel sheets to extract data from. \n",
    "Data will be extracted into a dict from which a dataframe is created and saved as a .csv for later use.\n",
    "\n",
    "##### &nbsp; \n",
    "---"
   ]
  },
  {
   "cell_type": "markdown",
   "metadata": {},
   "source": [
    "### Extracting telomere length data by FISH for all astronauts into a dict"
   ]
  },
  {
   "cell_type": "code",
   "execution_count": 4,
   "metadata": {},
   "outputs": [
    {
     "name": "stdout",
     "output_type": "stream",
     "text": [
      "dso7673_L-60.xlsx telomere data acquisition in progress..\n",
      "dso7673_R+270.xlsx telomere data acquisition in progress..\n",
      "dso2381_L-60.xlsx telomere data acquisition in progress..\n",
      "dso2494_R+7.xlsx telomere data acquisition in progress..\n",
      "dso2494_L-270.xlsx telomere data acquisition in progress..\n",
      "dso2381_R+180.xlsx telomere data acquisition in progress..\n",
      "dso1536_R+60.xlsx telomere data acquisition in progress..\n",
      "dso2494_L-180.xlsx telomere data acquisition in progress..\n",
      "dso1536_R+7.xlsx telomere data acquisition in progress..\n",
      "dso1062_R+7.xlsx telomere data acquisition in progress..\n",
      "dso2381_R+270.xlsx telomere data acquisition in progress..\n",
      "dso7673_R+180.xlsx telomere data acquisition in progress..\n",
      "dso2171_L-180.xlsx telomere data acquisition in progress..\n",
      "dso1536_FD140.xlsx telomere data acquisition in progress..\n",
      "dso1536_L-60.xlsx telomere data acquisition in progress..\n",
      "dso3228_R+180.xlsx telomere data acquisition in progress..\n",
      "dso4819_L-180.xlsx telomere data acquisition in progress..\n",
      "dso3228_R+7.xlsx telomere data acquisition in progress..\n",
      "dso2381_R+60.xlsx telomere data acquisition in progress..\n",
      "dso1536_L-180.xlsx telomere data acquisition in progress..\n",
      "dso7673_R+60.xlsx telomere data acquisition in progress..\n",
      "dso4819_L-270.xlsx telomere data acquisition in progress..\n",
      "dso1536_L-270.xlsx telomere data acquisition in progress..\n",
      "dso5163_R+7.xlsx telomere data acquisition in progress..\n",
      "dso3228_R+270.xlsx telomere data acquisition in progress..\n",
      "dso3228_L-60.xlsx telomere data acquisition in progress..\n",
      "dso2479_L-60.xlsx telomere data acquisition in progress..\n",
      "dso3228_R+60.xlsx telomere data acquisition in progress..\n",
      "dso1261_L-180.xlsx telomere data acquisition in progress..\n",
      "dso2479_R+270.xlsx telomere data acquisition in progress..\n",
      "dso1536_FD90.xlsx telomere data acquisition in progress..\n",
      "dso1062_L-180.xlsx telomere data acquisition in progress..\n",
      "dso2479_R+180.xlsx telomere data acquisition in progress..\n",
      "dso2479_R+60.xlsx telomere data acquisition in progress..\n",
      "dso1062_L-270.xlsx telomere data acquisition in progress..\n",
      "dso5163_R+180.xlsx telomere data acquisition in progress..\n",
      "dso4819_R+7.xlsx telomere data acquisition in progress..\n",
      "dso1261_L-270.xlsx telomere data acquisition in progress..\n",
      "dso1062_L-60.xlsx telomere data acquisition in progress..\n",
      "dso2381_L-270.xlsx telomere data acquisition in progress..\n",
      "dso2494_R+180.xlsx telomere data acquisition in progress..\n",
      "dso4819_L-60.xlsx telomere data acquisition in progress..\n",
      "dso1261_L-60.xlsx telomere data acquisition in progress..\n",
      "dso7673_L-180.xlsx telomere data acquisition in progress..\n",
      "dso7673_L-270.xlsx telomere data acquisition in progress..\n",
      "dso2494_R+60.xlsx telomere data acquisition in progress..\n",
      "dso2171_L-60.xlsx telomere data acquisition in progress..\n",
      "dso5163_R+60.xlsx telomere data acquisition in progress..\n",
      "dso2171_FD260.xlsx telomere data acquisition in progress..\n",
      "dso2381_L-180.xlsx telomere data acquisition in progress..\n",
      "dso2494_R+270.xlsx telomere data acquisition in progress..\n",
      "dso1536_R+270.xlsx telomere data acquisition in progress..\n",
      "dso4819_R+270.xlsx telomere data acquisition in progress..\n",
      "dso1261_R+60.xlsx telomere data acquisition in progress..\n",
      "dso4819_R+60.xlsx telomere data acquisition in progress..\n",
      "dso3228_L-270.xlsx telomere data acquisition in progress..\n",
      "dso2479_R+7.xlsx telomere data acquisition in progress..\n",
      "dso1062_R+60.xlsx telomere data acquisition in progress..\n",
      "dso3228_L-180.xlsx telomere data acquisition in progress..\n",
      "dso5163_L-60.xlsx telomere data acquisition in progress..\n",
      "dso2171_R+180.xlsx telomere data acquisition in progress..\n",
      "dso2494_L-60.xlsx telomere data acquisition in progress..\n",
      "dso1536_R+180.xlsx telomere data acquisition in progress..\n",
      "dso4819_R+180.xlsx telomere data acquisition in progress..\n",
      "DSO2171_R+105.xlsx telomere data acquisition in progress..\n",
      "dso2171_FD45.xlsx telomere data acquisition in progress..\n",
      "dso1062_R+270.xlsx telomere data acquisition in progress..\n",
      "dso2479_L-180.xlsx telomere data acquisition in progress..\n",
      "dso5163_FD140.xlsx telomere data acquisition in progress..\n",
      "dso1261_R+270.xlsx telomere data acquisition in progress..\n",
      "dso1261_R+7.xlsx telomere data acquisition in progress..\n",
      "dso5163_L-180.xlsx telomere data acquisition in progress..\n",
      "dso2381_R+7.xlsx telomere data acquisition in progress..\n",
      "dso2171_R+5.xlsx telomere data acquisition in progress..\n",
      "dso5163_L-270.xlsx telomere data acquisition in progress..\n",
      "dso1261_R+180.xlsx telomere data acquisition in progress..\n",
      "dso1062_R+180.xlsx telomere data acquisition in progress..\n",
      "dso2479_L-270.xlsx telomere data acquisition in progress..\n",
      "dso5163_FD90.xlsx telomere data acquisition in progress..\n",
      "Done collecting all astronaut telomere length excel files\n"
     ]
    }
   ],
   "source": [
    "# this function pulls individual telomere length data from the excel sheets containing\n",
    "# ImageJ telometer data. DAPI, missing values, and values greater than \n",
    "# 3 standard devs from the mean are purged. all telo measurements\n",
    "# are standardized according to microscope imaged w/, using Cy3 bead values\n",
    "# to control for microscope intensity differences\n",
    "\n",
    "dict_astro_individ_telos_dfs = telo_ma.generate_dictionary_for_telomere_length_data(\n",
    "    '../../names cleaned every astro telo excel sheet')\n"
   ]
  },
  {
   "cell_type": "markdown",
   "metadata": {},
   "source": [
    "### Making a dataframe from the dict"
   ]
  },
  {
   "cell_type": "code",
   "execution_count": 12,
   "metadata": {},
   "outputs": [
    {
     "data": {
      "text/html": [
       "<div>\n",
       "<style scoped>\n",
       "    .dataframe tbody tr th:only-of-type {\n",
       "        vertical-align: middle;\n",
       "    }\n",
       "\n",
       "    .dataframe tbody tr th {\n",
       "        vertical-align: top;\n",
       "    }\n",
       "\n",
       "    .dataframe thead th {\n",
       "        text-align: right;\n",
       "    }\n",
       "</style>\n",
       "<table border=\"1\" class=\"dataframe\">\n",
       "  <thead>\n",
       "    <tr style=\"text-align: right;\">\n",
       "      <th></th>\n",
       "      <th>astro number</th>\n",
       "      <th>astro id</th>\n",
       "      <th>timepoint</th>\n",
       "      <th>flight status</th>\n",
       "      <th>telo data</th>\n",
       "      <th>telo means</th>\n",
       "      <th>Q1</th>\n",
       "      <th>Q2-3</th>\n",
       "      <th>Q4</th>\n",
       "    </tr>\n",
       "  </thead>\n",
       "  <tbody>\n",
       "    <tr>\n",
       "      <th>0</th>\n",
       "      <td>1</td>\n",
       "      <td>5163</td>\n",
       "      <td>L-270</td>\n",
       "      <td>Pre-Flight</td>\n",
       "      <td>0        83.177414\n",
       "1        73.103909\n",
       "2       ...</td>\n",
       "      <td>87.672120</td>\n",
       "      <td>telos preF Q1 &lt;0.25</td>\n",
       "      <td>telos preF Q2-3 &gt;0.25 &amp; &lt;0.75</td>\n",
       "      <td>telos preF Q4 &gt;0.75</td>\n",
       "    </tr>\n",
       "    <tr>\n",
       "      <th>1</th>\n",
       "      <td>1</td>\n",
       "      <td>5163</td>\n",
       "      <td>L-180</td>\n",
       "      <td>Pre-Flight</td>\n",
       "      <td>0        63.397928\n",
       "1        75.158704\n",
       "2       ...</td>\n",
       "      <td>101.077756</td>\n",
       "      <td>telos preF Q1 &lt;0.25</td>\n",
       "      <td>telos preF Q2-3 &gt;0.25 &amp; &lt;0.75</td>\n",
       "      <td>telos preF Q4 &gt;0.75</td>\n",
       "    </tr>\n",
       "  </tbody>\n",
       "</table>\n",
       "</div>"
      ],
      "text/plain": [
       "   astro number astro id timepoint flight status  \\\n",
       "0             1     5163     L-270    Pre-Flight   \n",
       "1             1     5163     L-180    Pre-Flight   \n",
       "\n",
       "                                           telo data  telo means  \\\n",
       "0  0        83.177414\n",
       "1        73.103909\n",
       "2       ...   87.672120   \n",
       "1  0        63.397928\n",
       "1        75.158704\n",
       "2       ...  101.077756   \n",
       "\n",
       "                    Q1                           Q2-3                   Q4  \n",
       "0  telos preF Q1 <0.25  telos preF Q2-3 >0.25 & <0.75  telos preF Q4 >0.75  \n",
       "1  telos preF Q1 <0.25  telos preF Q2-3 >0.25 & <0.75  telos preF Q4 >0.75  "
      ]
     },
     "execution_count": 12,
     "metadata": {},
     "output_type": "execute_result"
    }
   ],
   "source": [
    "# takes data from above dict, standardizes # of telomeres according to theoretical max\n",
    "# for these samples (184 per metaphase, 30 metaphases each sample) using\n",
    "# random sampling from data per sample\n",
    "# makes dataframe\n",
    "\n",
    "astro_df = telo_ma.make_astronaut_dataframe(dict_astro_individ_telos_dfs)\n",
    "astro_df.head(2)"
   ]
  },
  {
   "cell_type": "markdown",
   "metadata": {},
   "source": [
    "### Saving all astros telo dataframe to csv for later retrieval"
   ]
  },
  {
   "cell_type": "code",
   "execution_count": 10,
   "metadata": {},
   "outputs": [],
   "source": [
    "copy_astro_df = astro_df\n",
    "copy_astro_df['telo data'] = copy_astro_df['telo data'].apply(lambda row: row.tolist())\n",
    "\n",
    "copy_astro_df.to_csv('../excel data/All_astronauts_telomere_length_dataframe.csv', index = False)"
   ]
  },
  {
   "cell_type": "markdown",
   "metadata": {},
   "source": [
    "### Extracting telomere length data by FISH for all astronaut controls into a dict"
   ]
  },
  {
   "cell_type": "code",
   "execution_count": 11,
   "metadata": {},
   "outputs": [
    {
     "name": "stdout",
     "output_type": "stream",
     "text": [
      "tsf3907 mphase TeloFISH ___ L-180.xlsx IT WORKS PEGGY!!! <3\n",
      "tsf2580 mphase TeloFISH L-180.xlsx IT WORKS PEGGY!!! <3\n",
      "tsf3609 mphase TeloFISH R+7.xlsx IT WORKS PEGGY!!! <3\n",
      "tsf3609 mphase TeloFISH L-270.xlsx IT WORKS PEGGY!!! <3\n",
      "tsf4127 mphase TeloFISH R+7.xlsx IT WORKS PEGGY!!! <3\n",
      "tsf1264 mphase TeloFISH R+180.xlsx IT WORKS PEGGY!!! <3\n",
      "tsf1264 mphase TeloFISH R+270.xlsx IT WORKS PEGGY!!! <3\n",
      "tsf3609 mphase TeloFISH L-180.xlsx IT WORKS PEGGY!!! <3\n",
      "tsf3907 mphase TeloFISH ___ L-270.xlsx IT WORKS PEGGY!!! <3\n",
      "tsf2580 mphase TeloFISH L-270.xlsx IT WORKS PEGGY!!! <3\n",
      "tsf1826 mphase TeloFISH ___ R+7.xlsx IT WORKS PEGGY!!! <3\n",
      "tsf0397 mphase TeloFISH R+180.xlsx IT WORKS PEGGY!!! <3\n",
      "TSF0646_R+7.xlsx IT WORKS PEGGY!!! <3\n",
      "TSF0912_FD45.xlsx IT WORKS PEGGY!!! <3\n",
      "tsf0397 mphase TeloFISH R+270.xlsx IT WORKS PEGGY!!! <3\n",
      "TSF0912_R+270.xlsx IT WORKS PEGGY!!! <3\n",
      "tsf1264 mphase TeloFISH R+60.xlsx IT WORKS PEGGY!!! <3\n",
      "tsf4127 mphase TeloFISH R+180.xlsx IT WORKS PEGGY!!! <3\n",
      "tsf4127 mphase TeloFISH R+270.xlsx IT WORKS PEGGY!!! <3\n",
      "TSF0912_R+7.xlsx IT WORKS PEGGY!!! <3\n",
      "tsf2377 mphase TeloFISH R+7.xlsx IT WORKS PEGGY!!! <3\n",
      "tsf3907 mphase TeloFISH ___ L-60.xlsx IT WORKS PEGGY!!! <3\n",
      "TSF0646_R+180.xlsx IT WORKS PEGGY!!! <3\n",
      "tsf1826 mphase TeloFISH ___ L-270.xlsx IT WORKS PEGGY!!! <3\n",
      "tsf2377 mphase TeloFISH L-180.xlsx IT WORKS PEGGY!!! <3\n",
      "tsf2377 mphase TeloFISH L-270.xlsx IT WORKS PEGGY!!! <3\n",
      "TSF0912_FD260.xlsx IT WORKS PEGGY!!! <3\n",
      "tsf3907 mphase TeloFISH ___ R+60.xlsx IT WORKS PEGGY!!! <3\n",
      "TSF0646_R+270.xlsx IT WORKS PEGGY!!! <3\n",
      "tsf1826 mphase TeloFISH ___ L-180.xlsx IT WORKS PEGGY!!! <3\n",
      "tsf3609 mphase TeloFISH R+180.xlsx IT WORKS PEGGY!!! <3\n",
      "tsf1264 mphase TeloFISH R+7.xlsx IT WORKS PEGGY!!! <3\n",
      "tsf1264 mphase TeloFISH L-270.xlsx IT WORKS PEGGY!!! <3\n",
      "tsf0100 R+60.xlsx IT WORKS PEGGY!!! <3\n",
      "tsf2580 mphase TeloFISH R+60.xlsx IT WORKS PEGGY!!! <3\n",
      "tsf2580 mphase TeloFISH R+270.xlsx IT WORKS PEGGY!!! <3\n",
      "tsf2580 mphase TeloFISH R+7.xlsx IT WORKS PEGGY!!! <3\n",
      "tsf2580 mphase TeloFISH R+180.xlsx IT WORKS PEGGY!!! <3\n",
      "tsf1264 mphase TeloFISH L-180.xlsx IT WORKS PEGGY!!! <3\n",
      "tsf1826 mphase TeloFISH ___ L-60.xlsx IT WORKS PEGGY!!! <3\n",
      "tsf3609 mphase TeloFISH R+270.xlsx IT WORKS PEGGY!!! <3\n",
      "tsf0100 L-270.xlsx IT WORKS PEGGY!!! <3\n",
      "tsf0397 mphase TeloFISH L-270.xlsx IT WORKS PEGGY!!! <3\n",
      "tsf2580 mphase TeloFISH L-60.xlsx IT WORKS PEGGY!!! <3\n",
      "tsf0100 L-60.xlsx IT WORKS PEGGY!!! <3\n",
      "tsf1826 mphase TeloFISH ___ R+60.xlsx IT WORKS PEGGY!!! <3\n",
      "tsf0397 mphase TeloFISH L-180.xlsx IT WORKS PEGGY!!! <3\n",
      "tsf3907 mphase TeloFISH ___ R+7.xlsx IT WORKS PEGGY!!! <3\n",
      "TSF0646_L-60.xlsx IT WORKS PEGGY!!! <3\n",
      "tsf0100 L-180.xlsx IT WORKS PEGGY!!! <3\n",
      "tsf0397 mphase TeloFISH L-60.xlsx IT WORKS PEGGY!!! <3\n",
      "tsf4127 mphase TeloFISH R+60.xlsx IT WORKS PEGGY!!! <3\n",
      "tsf4127 mphase TeloFISH L-270.xlsx IT WORKS PEGGY!!! <3\n",
      "TSF0912_L-180.xlsx IT WORKS PEGGY!!! <3\n",
      "tsf2377 mphase TeloFISH L-60.xlsx IT WORKS PEGGY!!! <3\n",
      "tsf3609 mphase TeloFISH L-60.xlsx IT WORKS PEGGY!!! <3\n",
      "tsf4127 mphase TeloFISH L-180.xlsx IT WORKS PEGGY!!! <3\n",
      "tsf2377 mphase TeloFISH R+270.xlsx IT WORKS PEGGY!!! <3\n",
      "tsf4127 mphase TeloFISH L-60.xlsx IT WORKS PEGGY!!! <3\n",
      "tsf0397 mphase TeloFISH R+60.xlsx IT WORKS PEGGY!!! <3\n",
      "tsf1826 mphase TeloFISH ___ R+180.xlsx IT WORKS PEGGY!!! <3\n",
      "tsf1826 mphase TeloFISH ___ R+270.xlsx IT WORKS PEGGY!!! <3\n",
      "tsf3609 mphase TeloFISH R+60.xlsx IT WORKS PEGGY!!! <3\n",
      "TSF0646_L-180.xlsx IT WORKS PEGGY!!! <3\n",
      "TSF0646_FD45.xlsx IT WORKS PEGGY!!! <3\n",
      "tsf2377 mphase TeloFISH R+180.xlsx IT WORKS PEGGY!!! <3\n",
      "tsf2377 mphase TeloFISH R+60.xlsx IT WORKS PEGGY!!! <3\n",
      "data collection complete\n"
     ]
    }
   ],
   "source": [
    "dict_ctrl_individ_telos_dfs = telo_ma.grab_control_values_generate_dictionary('../../control files')"
   ]
  },
  {
   "cell_type": "markdown",
   "metadata": {},
   "source": [
    "### Making dataframe from dict"
   ]
  },
  {
   "cell_type": "code",
   "execution_count": 13,
   "metadata": {},
   "outputs": [
    {
     "data": {
      "text/html": [
       "<div>\n",
       "<style scoped>\n",
       "    .dataframe tbody tr th:only-of-type {\n",
       "        vertical-align: middle;\n",
       "    }\n",
       "\n",
       "    .dataframe tbody tr th {\n",
       "        vertical-align: top;\n",
       "    }\n",
       "\n",
       "    .dataframe thead th {\n",
       "        text-align: right;\n",
       "    }\n",
       "</style>\n",
       "<table border=\"1\" class=\"dataframe\">\n",
       "  <thead>\n",
       "    <tr style=\"text-align: right;\">\n",
       "      <th></th>\n",
       "      <th>control id</th>\n",
       "      <th>timepoint</th>\n",
       "      <th>flight status controls</th>\n",
       "      <th>telo data</th>\n",
       "      <th>telo means</th>\n",
       "      <th>flight status</th>\n",
       "    </tr>\n",
       "  </thead>\n",
       "  <tbody>\n",
       "    <tr>\n",
       "      <th>0</th>\n",
       "      <td>0100</td>\n",
       "      <td>L-270</td>\n",
       "      <td>Pre-Flight</td>\n",
       "      <td>0       124.022720\n",
       "1        80.905446\n",
       "2       ...</td>\n",
       "      <td>117.607812</td>\n",
       "      <td>Controls</td>\n",
       "    </tr>\n",
       "    <tr>\n",
       "      <th>1</th>\n",
       "      <td>0100</td>\n",
       "      <td>L-180</td>\n",
       "      <td>Pre-Flight</td>\n",
       "      <td>0       117.490812\n",
       "1       158.703642\n",
       "2       ...</td>\n",
       "      <td>146.984758</td>\n",
       "      <td>Controls</td>\n",
       "    </tr>\n",
       "  </tbody>\n",
       "</table>\n",
       "</div>"
      ],
      "text/plain": [
       "  control id timepoint flight status controls  \\\n",
       "0       0100     L-270             Pre-Flight   \n",
       "1       0100     L-180             Pre-Flight   \n",
       "\n",
       "                                           telo data  telo means flight status  \n",
       "0  0       124.022720\n",
       "1        80.905446\n",
       "2       ...  117.607812      Controls  \n",
       "1  0       117.490812\n",
       "1       158.703642\n",
       "2       ...  146.984758      Controls  "
      ]
     },
     "execution_count": 13,
     "metadata": {},
     "output_type": "execute_result"
    }
   ],
   "source": [
    "# same as above\n",
    "\n",
    "control_df = telo_ma.make_control_dataframe(dict_ctrl_individ_telos_dfs)\n",
    "control_df['flight status'] = 'Controls'\n",
    "control_df.head(2)"
   ]
  },
  {
   "cell_type": "markdown",
   "metadata": {},
   "source": [
    "### Saving all astro controls telo data for later retrieval"
   ]
  },
  {
   "cell_type": "code",
   "execution_count": 14,
   "metadata": {},
   "outputs": [],
   "source": [
    "copy_control_df = control_df\n",
    "copy_control_df['telo data'] = copy_control_df['telo data'].apply(lambda row: row.tolist())\n",
    "copy_control_df.to_csv('../excel data/All_astro_controls_telomere_length_dataframe.csv', index=False)"
   ]
  }
 ],
 "metadata": {
  "kernelspec": {
   "display_name": "Python 3",
   "language": "python",
   "name": "python3"
  },
  "language_info": {
   "codemirror_mode": {
    "name": "ipython",
    "version": 3
   },
   "file_extension": ".py",
   "mimetype": "text/x-python",
   "name": "python",
   "nbconvert_exporter": "python",
   "pygments_lexer": "ipython3",
   "version": "3.7.4"
  }
 },
 "nbformat": 4,
 "nbformat_minor": 2
}
