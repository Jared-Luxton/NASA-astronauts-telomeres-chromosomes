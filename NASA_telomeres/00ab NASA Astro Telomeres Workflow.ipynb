{
 "cells": [
  {
   "cell_type": "markdown",
   "metadata": {},
   "source": [
    "# Analyzing the Effects of Space Flight on Telomere Length Dynamics in NASA Astronauts\n",
    "\n",
    "In 2024 NASA will execute Project Artemis, sending humans back to the moon to establish a permanent lunar base. However, space is inherently dangerous to human health. As part of my Ph.D, I'm researching how spaceflight impacts human health, and whether these impacts could potentially comprise current (Project Artemis) or future missions, ala Mars and beyond. Specifically, I'm examining how time aboard the International Space Station affects telomeres, the ends of human DNA, and the stability of DNA, for NASA's astronauts. My research takes the *first look at the changes to telomeres in unrelated astronauts as a result of spaceflight*, informing NASA policy and approach for current and future missions.\n",
    "\n",
    "Let's get started with the analysis!\n",
    "\n",
    "Please feel free to contact me.\n",
    "\n",
    "**Contact:**  \n",
    "Jared Luxton  \n",
    "jLuxton@colostate.edu  \n",
    "https://www.linkedin.com/in/jaredjamesluxton/\n",
    "\n",
    "<table><tr>\n",
    "<td><img src=https://upload.wikimedia.org/wikipedia/commons/thumb/c/c3/Python-logo-notext.svg/200px-Python-logo-notext.svg.png width=\"150\"> \n",
    "<td><img src=https://cdn1.medicalnewstoday.com/content/images/articles/319/319971/space-explorer.jpg width=\"300\">\n",
    "<td><img src=https://abm-website-assets.s3.amazonaws.com/rdmag.com/s3fs-public/embedded_image/2017/04/telomere-chromosome-stock.jpg width=\"250\">\n",
    "</tr></table>\n",
    "\n",
    "&nbsp;\n",
    "&nbsp;   \n",
    "\n",
    "## Table of Contents:\n",
    "\n",
    "* [Background: Health Risks and Obstacles to Space Flight](#background) \n",
    "* [Approach: Identifying Risks by Measuring Telomere Lengths](#approach)\n",
    "* [Methods: Blood Collections, Cell Culture, Telomere Measurements](#methods)\n",
    "* [Data Cleaning: Handling Telomere Length Data](#data-cleaning)\n",
    "* [Data Analysis: Visualization and Statistics](#data-analysis)\n",
    "* [Conclusions](#conclusions)\n",
    "\n",
    "&nbsp;    "
   ]
  },
  {
   "cell_type": "markdown",
   "metadata": {},
   "source": [
    "<a id='background'></a>\n",
    "## Background \n",
    "**Health Risks and Obstacles to Space Flight**   \n",
    "Did you know that NASA is sending humans to the Moon in 2024? Yes! And not only that: this mission is the first of many that will develop permanent lunar colonies and provide a bridge to exploring Mars and beyond. Dubbed Artemis, this NASA project entails sending the *first* woman (and another man) to the lunar surface and the development of a *permanent lunar outpost called the Gateway* orbiting the Moon. The objectives undertaken by Artemis are part of NASA's overarching goal (and humanity's common dream) for humans to explore our solar system; Mars and beyond. \n",
    "\n",
    "The immediate challenges facing Artemis are substantial in terms of technology and health considerations for the astronauts. Even as we approach Project Artemis in 2024, the short- and long-term health effects of spaceflight, especially those from chronic exposure to galactic cosmic rays, a type of radiation unique to space and not found on Earth, remain relatively unknown. \n",
    "\n",
    "Galactic cosmic rays (GCRs) are highly energetic particles hurtling through space at nearly the speed of light. Though a rare event, when GCRs strike human cells they shred all cellular contents in their path, including DNA. This damage accumulates over time, and could lead to degeneration of tissues and cancer. Currently, we simply don't understand how much cellular damage humans accumulate in space, and how much it increases cancer risk. Not understanding these issues makes addressing them impossible. My research directly addresses these issues by examing how spaceflight effects telomeres (the ends of DNA) and DNA stability for NASA astronauts aboard the International Space Station.\n",
    "&nbsp; "
   ]
  },
  {
   "cell_type": "markdown",
   "metadata": {},
   "source": [
    "<a id='approach'></a>\n",
    "## Approach \n",
    "**Identifying Risks by Measuring Telomere Lengths**  \n",
    "Telomeres are repetitive sequences of DNA covered by protein found at the very ends of DNA. Telomeres shorten with each cell division and thus shorten as we age. When the telomeres in a cell reach a critically short length, the cell will die or persist in a state which damages neighboring cells (termed senescence). Cell death resulting from telomeres shortening too quickly will lead to age-related diseases, i.e cancer.  Environmental exposures, including space radiation, air pollution, stress, inflammation, and others can all contribute to telomere shortening and thus age-related diseases - cancer. Telomeres therefore link environmental exposures with age-related diseases. By measuring telomere length over a period of time which involves environmental stressors and exposures, the telomere length changes can be used to quantify the short- and long-term effects of that experience in terms of cancer risk and disease. This is what we've done with the astronauts.\n",
    "&nbsp; "
   ]
  },
  {
   "cell_type": "markdown",
   "metadata": {},
   "source": [
    "<a id='methods'></a>\n",
    "## Methods\n",
    "**Blood Collection, Cell Culture, Telomere Measurements**  \n",
    "We monitored the telomere lengths in 11 unrelated astronauts at pre-, mid-, and post-spaceflight timepoints aboard the International Space Station (where available). In all, we have telomere data for about seven timepoint samples for each astronaut. For our analyses, we directly monitored the lengths of *all individual telomeres* in each cell for each timepoint for each patient; we also have the telomere length means for those timepoints.\n",
    "\n",
    "To measure telomere length in astronauts, we used a noninvasive approach for sample collection and analysis. Blood was taken from astronauts at pre-, mid- (yes, blood was drawn aboard the International Space Station, sent down on the Soyuz capsule to Texas, and mailed to us), and post-spaceflight timepoints. From these blood samples we specifically cultured white blood cells (ala 'T-cells'). By culturing and using only white blood cells for quantifying telomere length, we reduced variation in our measurements from different cell types.\n",
    "\n",
    "But, how exactly can we measure telomere length? I used a technique called *Telomere Fluoresence In Situ Hybridization*, aka Telo-FISH. This technique measures telomere length by taking advantage of the fact that telomeres are repetitive sequences of DNA. Longer telomeres have more DNA repeats; shorter telomeres have less. If we have a colorful substance (a fluorescent 'probe') which binds to these repetitive sequences, we can visualize the telomeres using a microscope. When telomeres are longer, more probe will bind, and under the microscope they'll appear bright. Conversely, shorter telomeres bind less probe and are dimmer under the microscope. Thus, to quantify telomere length we attach fluorescent probes to telomeres, image the colored telomeres, and quantify the fluorescent intensity of the colored telomeres. I used a software called Telometer (part of ImageJ) to convert fluorescent intensities of telomeres to pixel values, yielding measurements of telomeres. This techinque, Telo-FISH,  is a powerful approach which enables us to determine the relative telomere lengths of all individual telomeres. \n",
    "\n",
    "I mentioned earlier that I have 11 unrelated astronauts with about seven timepoint samples; for each timepoint I imaged the telomeres of 30 cells. As well, I have a cohort of 11 unrelated age-matched controls for the astronauts; they also have seven timepoint samples with 30 images per timepoint. As part of the telomere length analysis with Telo-FISH, we end up with one Excel file containing the telomere lengths per timepoint. We have 11 astronauts, 11 age-matched controls, and about 7 timepoints for each individual. That's 22 individuals and 7 timepoints, so about 150 Excel files to handle and analyze. Python is the perfect choice for synthesizing all of this data. Let's get on with the analysis!\n",
    "&nbsp; "
   ]
  },
  {
   "cell_type": "markdown",
   "metadata": {},
   "source": [
    "<a id='data-cleaning'></a>\n",
    "## Data Extraction\n",
    "**Handling Telomere Length Data**  \n",
    "We need to come to extract individual telomere lengths from our imaging dataset, which contains >10,000 images from the 11 astronauts and 11 controls at 7 timepoints. Associated with each astronaut/control are measurements of ~5000 individual telomeres, totalling nearly 2 million individual telomere length measurements. What's our strategy to approach this?\n",
    "\n",
    "First, we'll write logic to recognize the two components in each file name: the encoded astronaut or control sample ID, and the timepoint at which the sample (blood) was taken. We'll use this information to build a dictionary from the data. We'll store the file name, which contains the sample ID & timepoint, as a KEY. The corresponding VALUE will be the individual telomere length data contained in the respective file which we'll extract. Along the way, we'll remove outliers from the data by omitting individual telomeres greater than 3 standard deviations from the mean. There's also information in the files that doesn't represent telomeres but is an artifact of the quantification process - this will be removed as well.\n",
    "\n",
    "The dictionary structure will look like this:\n",
    "\n",
    "data_dict = {   \n",
    "sample_1_270_pre_flight: telomere_data,  \n",
    "sample_1_180_pre_flight: telomere_data,  \n",
    "etc.\n",
    "}\n",
    "\n",
    "Where \"sample_1\" represents the sample ID and \"270_pre_flight\" represents a mock timepoint, both forming the KEY to their respective telomere measurements.\n",
    "\n",
    "Let's clean this data and make the dictionary. \n",
    "\n",
    "Please note that this is a pared down version of the analyses - the actual script used for analyzing the real data is identical, but for exposition we'll be point our analyses at a folder containing imaging data from <100 images. Furthermore, the data in the folder has been synthetically generated (random sampling/bootstrapping) from the real astronaut data to protect the sensitive nature of this data prior to publication.\n",
    "\n",
    "&nbsp; \n"
   ]
  },
  {
   "cell_type": "code",
   "execution_count": 2,
   "metadata": {},
   "outputs": [
    {
     "name": "stdout",
     "output_type": "stream",
     "text": [
      "CPython 3.7.4\n",
      "IPython 7.4.0\n",
      "\n",
      "ipywidgets not installed\n",
      "matplotlib 3.0.3\n",
      "numpy 1.16.4\n",
      "pandas 0.25.0\n",
      "sklearn 0.20.3\n",
      "\n",
      "compiler   : Clang 10.0.1 (clang-1001.0.46.4)\n",
      "system     : Darwin\n",
      "release    : 18.7.0\n",
      "machine    : x86_64\n",
      "processor  : i386\n",
      "CPU cores  : 8\n",
      "interpreter: 64bit\n"
     ]
    }
   ],
   "source": [
    "%load_ext watermark\n",
    "%watermark -v -m -p ipywidgets,matplotlib,numpy,pandas,sklearn"
   ]
  },
  {
   "cell_type": "markdown",
   "metadata": {},
   "source": [
    "<a id='data-analysis'></a>\n",
    "## Data Analysis\n",
    "**Visualization and Statistics**  \n",
    "Once we've stored the all sample IDs & timepoints as KEYs to their respective data as VALUEs, we'll write some code to loop through the dictionary containing this info. During each loop cycle, the loop will extract the data for all timepoint samples associated with each astronaut or control. With the extracted data, we'll run our graphing visualizations and run the statistics. Let's see what we find. \n",
    "\n",
    "\n",
    "\n",
    "&nbsp; "
   ]
  },
  {
   "cell_type": "markdown",
   "metadata": {},
   "source": [
    "<a id='conclusions'></a>\n",
    "## Conclusions\n",
    "&nbsp; "
   ]
  },
  {
   "cell_type": "code",
   "execution_count": null,
   "metadata": {},
   "outputs": [],
   "source": []
  }
 ],
 "metadata": {
  "kernelspec": {
   "display_name": "Python 3",
   "language": "python",
   "name": "python3"
  },
  "language_info": {
   "codemirror_mode": {
    "name": "ipython",
    "version": 3
   },
   "file_extension": ".py",
   "mimetype": "text/x-python",
   "name": "python",
   "nbconvert_exporter": "python",
   "pygments_lexer": "ipython3",
   "version": "3.7.4"
  }
 },
 "nbformat": 4,
 "nbformat_minor": 2
}
