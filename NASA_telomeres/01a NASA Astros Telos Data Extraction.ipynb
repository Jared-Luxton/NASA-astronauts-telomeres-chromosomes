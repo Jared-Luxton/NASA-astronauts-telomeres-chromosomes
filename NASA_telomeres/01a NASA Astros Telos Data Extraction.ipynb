{
 "cells": [
  {
   "cell_type": "code",
   "execution_count": 1,
   "metadata": {},
   "outputs": [],
   "source": [
    "# enables access to directories/files\n",
    "import os\n",
    "\n",
    "# general purpose modules for handling data\n",
    "import numpy as np\n",
    "from numpy import array\n",
    "import pandas as pd\n",
    "from pandas import ExcelWriter\n",
    "from pandas import ExcelFile\n",
    "\n",
    "# custom module for handling telomere length data\n",
    "import telomere_methods_astros as telo_ma"
   ]
  },
  {
   "cell_type": "markdown",
   "metadata": {},
   "source": [
    "---\n",
    "&nbsp; \n",
    "\n",
    "The telomere length measurements by telomere FISH are stored in individual excel sheets \n",
    "per timepoint per individual. Thus, we have roughly 200 excel sheets to extract data from. \n",
    "Data will be extracted into a dict from which a dataframe is created and saved as a .csv for later use.\n",
    "\n",
    "&nbsp;\n",
    "\n",
    "---"
   ]
  },
  {
   "cell_type": "markdown",
   "metadata": {
    "toc-hr-collapsed": false
   },
   "source": [
    "# Extracting telomere length data by FISH for all astronauts into a dict"
   ]
  },
  {
   "cell_type": "code",
   "execution_count": 2,
   "metadata": {},
   "outputs": [],
   "source": [
    "# ls '../data/raw data/'"
   ]
  },
  {
   "cell_type": "code",
   "execution_count": 3,
   "metadata": {},
   "outputs": [
    {
     "name": "stdout",
     "output_type": "stream",
     "text": [
      "dso7673_L-60.xlsx telomere data acquisition in progress..\n",
      "dso7673_R+270.xlsx telomere data acquisition in progress..\n",
      "dso2381_L-60.xlsx telomere data acquisition in progress..\n",
      "dso2494_R+7.xlsx telomere data acquisition in progress..\n",
      "dso2494_L-270.xlsx telomere data acquisition in progress..\n",
      "dso2381_R+180.xlsx telomere data acquisition in progress..\n",
      "dso1536_R+60.xlsx telomere data acquisition in progress..\n",
      "dso2494_L-180.xlsx telomere data acquisition in progress..\n",
      "dso1536_R+7.xlsx telomere data acquisition in progress..\n",
      "dso1062_R+7.xlsx telomere data acquisition in progress..\n",
      "dso2381_R+270.xlsx telomere data acquisition in progress..\n",
      "dso7673_R+180.xlsx telomere data acquisition in progress..\n",
      "dso2171_L-180.xlsx telomere data acquisition in progress..\n",
      "dso1536_FD140.xlsx telomere data acquisition in progress..\n",
      "dso1536_L-60.xlsx telomere data acquisition in progress..\n",
      "dso3228_R+180.xlsx telomere data acquisition in progress..\n",
      "dso4819_L-180.xlsx telomere data acquisition in progress..\n",
      "dso3228_R+7.xlsx telomere data acquisition in progress..\n",
      "dso2381_R+60.xlsx telomere data acquisition in progress..\n",
      "dso1536_L-180.xlsx telomere data acquisition in progress..\n",
      "dso7673_R+60.xlsx telomere data acquisition in progress..\n",
      "dso4819_L-270.xlsx telomere data acquisition in progress..\n",
      "dso1536_L-270.xlsx telomere data acquisition in progress..\n",
      "dso5163_R+7.xlsx telomere data acquisition in progress..\n",
      "dso3228_R+270.xlsx telomere data acquisition in progress..\n",
      "dso3228_L-60.xlsx telomere data acquisition in progress..\n",
      "dso2479_L-60.xlsx telomere data acquisition in progress..\n",
      "dso3228_R+60.xlsx telomere data acquisition in progress..\n",
      "dso1261_L-180.xlsx telomere data acquisition in progress..\n",
      "dso2479_R+270.xlsx telomere data acquisition in progress..\n",
      "dso1536_FD90.xlsx telomere data acquisition in progress..\n",
      "dso1062_L-180.xlsx telomere data acquisition in progress..\n",
      "dso2479_R+180.xlsx telomere data acquisition in progress..\n",
      "dso2479_R+60.xlsx telomere data acquisition in progress..\n",
      "dso1062_L-270.xlsx telomere data acquisition in progress..\n",
      "dso5163_R+180.xlsx telomere data acquisition in progress..\n",
      "dso4819_R+7.xlsx telomere data acquisition in progress..\n",
      "dso1261_L-270.xlsx telomere data acquisition in progress..\n",
      "dso1062_L-60.xlsx telomere data acquisition in progress..\n",
      "dso2381_L-270.xlsx telomere data acquisition in progress..\n",
      "dso2494_R+180.xlsx telomere data acquisition in progress..\n",
      "dso4819_L-60.xlsx telomere data acquisition in progress..\n",
      "dso1261_L-60.xlsx telomere data acquisition in progress..\n",
      "dso7673_L-180.xlsx telomere data acquisition in progress..\n",
      "dso7673_L-270.xlsx telomere data acquisition in progress..\n",
      "dso2494_R+60.xlsx telomere data acquisition in progress..\n",
      "dso2171_L-60.xlsx telomere data acquisition in progress..\n",
      "dso5163_R+60.xlsx telomere data acquisition in progress..\n",
      "dso2171_FD260.xlsx telomere data acquisition in progress..\n",
      "dso2381_L-180.xlsx telomere data acquisition in progress..\n",
      "dso2494_R+270.xlsx telomere data acquisition in progress..\n",
      "dso1536_R+270.xlsx telomere data acquisition in progress..\n",
      "dso4819_R+270.xlsx telomere data acquisition in progress..\n",
      "dso1261_R+60.xlsx telomere data acquisition in progress..\n",
      "dso4819_R+60.xlsx telomere data acquisition in progress..\n",
      "dso3228_L-270.xlsx telomere data acquisition in progress..\n",
      "dso2479_R+7.xlsx telomere data acquisition in progress..\n",
      "dso1062_R+60.xlsx telomere data acquisition in progress..\n",
      "dso2171_R+270.xlsx telomere data acquisition in progress..\n",
      "dso3228_L-180.xlsx telomere data acquisition in progress..\n",
      "dso5163_L-60.xlsx telomere data acquisition in progress..\n",
      "dso2171_R+180.xlsx telomere data acquisition in progress..\n",
      "dso2494_L-60.xlsx telomere data acquisition in progress..\n",
      "dso1536_R+180.xlsx telomere data acquisition in progress..\n",
      "dso4819_R+180.xlsx telomere data acquisition in progress..\n",
      "DSO2171_R+105.xlsx telomere data acquisition in progress..\n",
      "dso2171_FD45.xlsx telomere data acquisition in progress..\n",
      "dso1062_R+270.xlsx telomere data acquisition in progress..\n",
      "dso2479_L-180.xlsx telomere data acquisition in progress..\n",
      "dso5163_FD140.xlsx telomere data acquisition in progress..\n",
      "dso1261_R+270.xlsx telomere data acquisition in progress..\n",
      "dso1261_R+7.xlsx telomere data acquisition in progress..\n",
      "dso5163_L-180.xlsx telomere data acquisition in progress..\n",
      "dso2381_R+7.xlsx telomere data acquisition in progress..\n",
      "dso5163_L-270.xlsx telomere data acquisition in progress..\n",
      "dso1261_R+180.xlsx telomere data acquisition in progress..\n",
      "dso1062_R+180.xlsx telomere data acquisition in progress..\n",
      "dso2479_L-270.xlsx telomere data acquisition in progress..\n",
      "dso5163_FD90.xlsx telomere data acquisition in progress..\n",
      "Done collecting all astronaut telomere length excel files\n"
     ]
    }
   ],
   "source": [
    "# this function pulls individual telomere length data from the excel sheets containing\n",
    "# ImageJ telometer data. DAPI, missing values, and values greater than \n",
    "# 3 standard devs from the mean are purged. all telo measurements\n",
    "# are standardized according to microscope imaged w/, using Cy3 bead values\n",
    "# to control for microscope intensity differences\n",
    "\n",
    "dict_astro_individ_telos_dfs = telo_ma.generate_dictionary_for_telomere_length_data(\n",
    "    '../data/raw data/astros telo data/')\n"
   ]
  },
  {
   "cell_type": "markdown",
   "metadata": {},
   "source": [
    "## Making a dataframe from the dict"
   ]
  },
  {
   "cell_type": "code",
   "execution_count": 4,
   "metadata": {},
   "outputs": [
    {
     "data": {
      "text/html": [
       "<div>\n",
       "<style scoped>\n",
       "    .dataframe tbody tr th:only-of-type {\n",
       "        vertical-align: middle;\n",
       "    }\n",
       "\n",
       "    .dataframe tbody tr th {\n",
       "        vertical-align: top;\n",
       "    }\n",
       "\n",
       "    .dataframe thead th {\n",
       "        text-align: right;\n",
       "    }\n",
       "</style>\n",
       "<table border=\"1\" class=\"dataframe\">\n",
       "  <thead>\n",
       "    <tr style=\"text-align: right;\">\n",
       "      <th></th>\n",
       "      <th>astro number</th>\n",
       "      <th>astro id</th>\n",
       "      <th>timepoint</th>\n",
       "      <th>flight status</th>\n",
       "      <th>telo data</th>\n",
       "      <th>telo means</th>\n",
       "      <th>Q1</th>\n",
       "      <th>Q2-3</th>\n",
       "      <th>Q4</th>\n",
       "    </tr>\n",
       "  </thead>\n",
       "  <tbody>\n",
       "    <tr>\n",
       "      <th>0</th>\n",
       "      <td>1</td>\n",
       "      <td>5163</td>\n",
       "      <td>L-270</td>\n",
       "      <td>Pre-Flight</td>\n",
       "      <td>0       132.793184\n",
       "1        73.621784\n",
       "2       ...</td>\n",
       "      <td>87.672120</td>\n",
       "      <td>telos preF Q1 &lt;0.25</td>\n",
       "      <td>telos preF Q2-3 &gt;0.25 &amp; &lt;0.75</td>\n",
       "      <td>telos preF Q4 &gt;0.75</td>\n",
       "    </tr>\n",
       "    <tr>\n",
       "      <th>1</th>\n",
       "      <td>1</td>\n",
       "      <td>5163</td>\n",
       "      <td>L-180</td>\n",
       "      <td>Pre-Flight</td>\n",
       "      <td>0        72.034748\n",
       "1        85.833612\n",
       "2       ...</td>\n",
       "      <td>101.077756</td>\n",
       "      <td>telos preF Q1 &lt;0.25</td>\n",
       "      <td>telos preF Q2-3 &gt;0.25 &amp; &lt;0.75</td>\n",
       "      <td>telos preF Q4 &gt;0.75</td>\n",
       "    </tr>\n",
       "    <tr>\n",
       "      <th>2</th>\n",
       "      <td>1</td>\n",
       "      <td>5163</td>\n",
       "      <td>L-60</td>\n",
       "      <td>Pre-Flight</td>\n",
       "      <td>0        89.558971\n",
       "1        95.806883\n",
       "2       ...</td>\n",
       "      <td>128.599235</td>\n",
       "      <td>telos preF Q1 &lt;0.25</td>\n",
       "      <td>telos preF Q2-3 &gt;0.25 &amp; &lt;0.75</td>\n",
       "      <td>telos preF Q4 &gt;0.75</td>\n",
       "    </tr>\n",
       "    <tr>\n",
       "      <th>3</th>\n",
       "      <td>1</td>\n",
       "      <td>5163</td>\n",
       "      <td>FD90</td>\n",
       "      <td>Mid-Flight</td>\n",
       "      <td>0        77.530905\n",
       "1        71.383228\n",
       "2       ...</td>\n",
       "      <td>101.183129</td>\n",
       "      <td>telos preF Q1 &lt;0.25</td>\n",
       "      <td>telos preF Q2-3 &gt;0.25 &amp; &lt;0.75</td>\n",
       "      <td>telos preF Q4 &gt;0.75</td>\n",
       "    </tr>\n",
       "  </tbody>\n",
       "</table>\n",
       "</div>"
      ],
      "text/plain": [
       "   astro number astro id timepoint flight status  \\\n",
       "0             1     5163     L-270    Pre-Flight   \n",
       "1             1     5163     L-180    Pre-Flight   \n",
       "2             1     5163      L-60    Pre-Flight   \n",
       "3             1     5163      FD90    Mid-Flight   \n",
       "\n",
       "                                           telo data  telo means  \\\n",
       "0  0       132.793184\n",
       "1        73.621784\n",
       "2       ...   87.672120   \n",
       "1  0        72.034748\n",
       "1        85.833612\n",
       "2       ...  101.077756   \n",
       "2  0        89.558971\n",
       "1        95.806883\n",
       "2       ...  128.599235   \n",
       "3  0        77.530905\n",
       "1        71.383228\n",
       "2       ...  101.183129   \n",
       "\n",
       "                    Q1                           Q2-3                   Q4  \n",
       "0  telos preF Q1 <0.25  telos preF Q2-3 >0.25 & <0.75  telos preF Q4 >0.75  \n",
       "1  telos preF Q1 <0.25  telos preF Q2-3 >0.25 & <0.75  telos preF Q4 >0.75  \n",
       "2  telos preF Q1 <0.25  telos preF Q2-3 >0.25 & <0.75  telos preF Q4 >0.75  \n",
       "3  telos preF Q1 <0.25  telos preF Q2-3 >0.25 & <0.75  telos preF Q4 >0.75  "
      ]
     },
     "execution_count": 4,
     "metadata": {},
     "output_type": "execute_result"
    }
   ],
   "source": [
    "# takes data from above dict, standardizes # of telomeres according to theoretical max\n",
    "# for these samples (184 per metaphase, 30 metaphases each sample) using\n",
    "# random sampling from data per sample\n",
    "# makes dataframe\n",
    "\n",
    "astro_df = telo_ma.make_astronaut_dataframe(dict_astro_individ_telos_dfs)\n",
    "astro_df.head(4)"
   ]
  },
  {
   "cell_type": "markdown",
   "metadata": {},
   "source": [
    "## Saving all astros telo dataframe to csv for later retrieval"
   ]
  },
  {
   "cell_type": "code",
   "execution_count": 5,
   "metadata": {},
   "outputs": [],
   "source": [
    "copy_astro_df = astro_df\n",
    "copy_astro_df['telo data'] = copy_astro_df['telo data'].apply(lambda row: row.tolist())\n",
    "\n",
    "copy_astro_df.to_csv('../data/compiled data/All_astronauts_telomere_length_dataframe.csv', index = False)"
   ]
  },
  {
   "cell_type": "markdown",
   "metadata": {},
   "source": [
    "## Reading in astronaut telomere length data per cell"
   ]
  },
  {
   "cell_type": "code",
   "execution_count": 6,
   "metadata": {},
   "outputs": [],
   "source": [
    "import importlib\n",
    "%load_ext autoreload\n",
    "%autoreload 2\n",
    "%reload_ext autoreload"
   ]
  },
  {
   "cell_type": "code",
   "execution_count": 9,
   "metadata": {},
   "outputs": [
    {
     "name": "stdout",
     "output_type": "stream",
     "text": [
      "dso7673_L-60.xlsx telomere data acquisition in progress..\n",
      "dso7673_R+270.xlsx telomere data acquisition in progress..\n",
      "dso2381_L-60.xlsx telomere data acquisition in progress..\n",
      "dso2494_R+7.xlsx telomere data acquisition in progress..\n",
      "dso2494_L-270.xlsx telomere data acquisition in progress..\n",
      "dso2381_R+180.xlsx telomere data acquisition in progress..\n",
      "dso1536_R+60.xlsx telomere data acquisition in progress..\n",
      "dso2494_L-180.xlsx telomere data acquisition in progress..\n",
      "dso1536_R+7.xlsx telomere data acquisition in progress..\n",
      "dso1062_R+7.xlsx telomere data acquisition in progress..\n",
      "dso2381_R+270.xlsx telomere data acquisition in progress..\n",
      "dso7673_R+180.xlsx telomere data acquisition in progress..\n",
      "dso2171_L-180.xlsx telomere data acquisition in progress..\n",
      "dso1536_FD140.xlsx telomere data acquisition in progress..\n",
      "dso1536_L-60.xlsx telomere data acquisition in progress..\n",
      "dso3228_R+180.xlsx telomere data acquisition in progress..\n",
      "dso4819_L-180.xlsx telomere data acquisition in progress..\n",
      "dso3228_R+7.xlsx telomere data acquisition in progress..\n",
      "dso2381_R+60.xlsx telomere data acquisition in progress..\n",
      "dso1536_L-180.xlsx telomere data acquisition in progress..\n",
      "dso7673_R+60.xlsx telomere data acquisition in progress..\n",
      "dso4819_L-270.xlsx telomere data acquisition in progress..\n",
      "dso1536_L-270.xlsx telomere data acquisition in progress..\n",
      "dso5163_R+7.xlsx telomere data acquisition in progress..\n",
      "dso3228_R+270.xlsx telomere data acquisition in progress..\n",
      "dso3228_L-60.xlsx telomere data acquisition in progress..\n",
      "dso2479_L-60.xlsx telomere data acquisition in progress..\n",
      "dso3228_R+60.xlsx telomere data acquisition in progress..\n",
      "dso1261_L-180.xlsx telomere data acquisition in progress..\n",
      "dso2479_R+270.xlsx telomere data acquisition in progress..\n",
      "dso1536_FD90.xlsx telomere data acquisition in progress..\n",
      "dso1062_L-180.xlsx telomere data acquisition in progress..\n",
      "dso2479_R+180.xlsx telomere data acquisition in progress..\n",
      "dso2479_R+60.xlsx telomere data acquisition in progress..\n",
      "dso1062_L-270.xlsx telomere data acquisition in progress..\n",
      "dso5163_R+180.xlsx telomere data acquisition in progress..\n",
      "dso4819_R+7.xlsx telomere data acquisition in progress..\n",
      "dso1261_L-270.xlsx telomere data acquisition in progress..\n",
      "dso1062_L-60.xlsx telomere data acquisition in progress..\n",
      "dso2381_L-270.xlsx telomere data acquisition in progress..\n",
      "dso2494_R+180.xlsx telomere data acquisition in progress..\n",
      "dso4819_L-60.xlsx telomere data acquisition in progress..\n",
      "dso1261_L-60.xlsx telomere data acquisition in progress..\n",
      "dso7673_L-180.xlsx telomere data acquisition in progress..\n",
      "dso7673_L-270.xlsx telomere data acquisition in progress..\n",
      "dso2494_R+60.xlsx telomere data acquisition in progress..\n",
      "dso2171_L-60.xlsx telomere data acquisition in progress..\n",
      "dso5163_R+60.xlsx telomere data acquisition in progress..\n",
      "dso2171_FD260.xlsx telomere data acquisition in progress..\n",
      "dso2381_L-180.xlsx telomere data acquisition in progress..\n",
      "dso2494_R+270.xlsx telomere data acquisition in progress..\n",
      "dso1536_R+270.xlsx telomere data acquisition in progress..\n",
      "dso4819_R+270.xlsx telomere data acquisition in progress..\n",
      "dso1261_R+60.xlsx telomere data acquisition in progress..\n",
      "dso4819_R+60.xlsx telomere data acquisition in progress..\n",
      "dso3228_L-270.xlsx telomere data acquisition in progress..\n",
      "dso2479_R+7.xlsx telomere data acquisition in progress..\n",
      "dso1062_R+60.xlsx telomere data acquisition in progress..\n",
      "dso2171_R+270.xlsx telomere data acquisition in progress..\n",
      "dso3228_L-180.xlsx telomere data acquisition in progress..\n",
      "dso5163_L-60.xlsx telomere data acquisition in progress..\n",
      "dso2171_R+180.xlsx telomere data acquisition in progress..\n",
      "dso2494_L-60.xlsx telomere data acquisition in progress..\n",
      "dso1536_R+180.xlsx telomere data acquisition in progress..\n",
      "dso4819_R+180.xlsx telomere data acquisition in progress..\n",
      "DSO2171_R+105.xlsx telomere data acquisition in progress..\n",
      "dso2171_FD45.xlsx telomere data acquisition in progress..\n",
      "dso1062_R+270.xlsx telomere data acquisition in progress..\n",
      "dso2479_L-180.xlsx telomere data acquisition in progress..\n",
      "dso5163_FD140.xlsx telomere data acquisition in progress..\n",
      "dso1261_R+270.xlsx telomere data acquisition in progress..\n",
      "dso1261_R+7.xlsx telomere data acquisition in progress..\n",
      "dso5163_L-180.xlsx telomere data acquisition in progress..\n",
      "dso2381_R+7.xlsx telomere data acquisition in progress..\n",
      "dso5163_L-270.xlsx telomere data acquisition in progress..\n",
      "dso1261_R+180.xlsx telomere data acquisition in progress..\n",
      "dso1062_R+180.xlsx telomere data acquisition in progress..\n",
      "dso2479_L-270.xlsx telomere data acquisition in progress..\n",
      "dso5163_FD90.xlsx telomere data acquisition in progress..\n",
      "Done collecting all astronaut telomere length excel files\n"
     ]
    }
   ],
   "source": [
    "dict_astro_cell_telos_dfs = telo_ma.grab_astro_telo_values_per_cell_generate_dictionary(\n",
    "    '../data/raw data/astros telo data/')"
   ]
  },
  {
   "cell_type": "code",
   "execution_count": 10,
   "metadata": {},
   "outputs": [],
   "source": [
    "astro_cells_df = telo_ma.make_astronaut_cell_data_dataframe(dict_astro_cell_telos_dfs)"
   ]
  },
  {
   "cell_type": "code",
   "execution_count": null,
   "metadata": {},
   "outputs": [],
   "source": [
    "astro_cells_df['telo data per cell'] = astro_cells_df['telo data per cell'].apply(lambda row: row.tolist())\n",
    "astro_cells_df.drop(['Q1', 'Q2-3', 'Q4'], axis=1, inplace=True)"
   ]
  },
  {
   "cell_type": "code",
   "execution_count": null,
   "metadata": {},
   "outputs": [],
   "source": [
    "astro_cells_df.to_csv('../data/compiled data/All_astronauts_telomere_length_per_cell_dataframe.csv', index = False)"
   ]
  },
  {
   "cell_type": "markdown",
   "metadata": {
    "toc-hr-collapsed": true
   },
   "source": [
    "# Extracting telomere length data by FISH for all astro controls into a dict"
   ]
  },
  {
   "cell_type": "code",
   "execution_count": null,
   "metadata": {},
   "outputs": [],
   "source": [
    "dict_ctrl_individ_telos_dfs = telo_ma.grab_control_values_generate_dictionary('../data/raw data/controls telo data')"
   ]
  },
  {
   "cell_type": "markdown",
   "metadata": {},
   "source": [
    "## Making dataframe from all controls dict"
   ]
  },
  {
   "cell_type": "code",
   "execution_count": null,
   "metadata": {},
   "outputs": [],
   "source": [
    "# same as above\n",
    "\n",
    "control_df = telo_ma.make_control_cell_data_dataframe(dict_ctrl_individ_telos_dfs)\n",
    "control_df['flight status'] = 'Controls'\n",
    "control_df.head(2)"
   ]
  },
  {
   "cell_type": "markdown",
   "metadata": {},
   "source": [
    "## Saving all astro controls telo data for later retrieval"
   ]
  },
  {
   "cell_type": "code",
   "execution_count": null,
   "metadata": {},
   "outputs": [],
   "source": [
    "copy_control_df = control_df\n",
    "copy_control_df['telo data'] = copy_control_df['telo data'].apply(lambda row: row.tolist())\n",
    "copy_control_df.to_csv('../data/compiled data/All_astro_controls_telomere_length_dataframe.csv', index=False)"
   ]
  },
  {
   "cell_type": "markdown",
   "metadata": {},
   "source": [
    "## Reading in control telomere length data per cell, saving to file"
   ]
  },
  {
   "cell_type": "code",
   "execution_count": null,
   "metadata": {},
   "outputs": [],
   "source": [
    "dict_control_cell_telos_dfs = telo_ma.grab_control_telo_values_per_cell_generate_dictionary(\n",
    "    '../data/raw data/controls telo data/')"
   ]
  },
  {
   "cell_type": "code",
   "execution_count": null,
   "metadata": {},
   "outputs": [],
   "source": [
    "ctrl_cells_df = telo_ma.make_control_cell_data_dataframe(dict_control_cell_telos_dfs)\n",
    "ctrl_cells_df['telo data per cell'] = ctrl_cells_df['telo data per cell'].apply(lambda row: row.tolist())"
   ]
  },
  {
   "cell_type": "code",
   "execution_count": null,
   "metadata": {},
   "outputs": [],
   "source": [
    "ctrl_cells_df.to_csv('../data/compiled data/All_controls_telomere_length_per_cell_dataframe.csv', index = False)"
   ]
  },
  {
   "cell_type": "markdown",
   "metadata": {
    "toc-hr-collapsed": true
   },
   "source": [
    "# Reading in astronaut urine/blood biochemical data"
   ]
  },
  {
   "cell_type": "code",
   "execution_count": null,
   "metadata": {},
   "outputs": [],
   "source": [
    "biochem_data = pd.read_excel('../data/raw data/Biochemistry means_SD n11 Telomere subjects.xlsx')\n",
    "biochem_data.shape"
   ]
  },
  {
   "cell_type": "markdown",
   "metadata": {},
   "source": [
    "## Processing urine biochem data (n=11)"
   ]
  },
  {
   "cell_type": "code",
   "execution_count": null,
   "metadata": {},
   "outputs": [],
   "source": [
    "urine_biochem_data = biochem_data.iloc[0:4, 0:11]\n",
    "urine_biochem_data.rename(columns={'Urine Biochemistry (n=11, not all time points have all 11 subjects though)': 'biochemistry'}, inplace=True)\n",
    "urine_biochem_data['sample type'] = 'urine'\n",
    "urine_biochem_data"
   ]
  },
  {
   "cell_type": "markdown",
   "metadata": {
    "toc-hr-collapsed": true
   },
   "source": [
    "## Processing blood biochem data (n=11)"
   ]
  },
  {
   "cell_type": "code",
   "execution_count": 15,
   "metadata": {},
   "outputs": [
    {
     "data": {
      "text/html": [
       "<div>\n",
       "<style scoped>\n",
       "    .dataframe tbody tr th:only-of-type {\n",
       "        vertical-align: middle;\n",
       "    }\n",
       "\n",
       "    .dataframe tbody tr th {\n",
       "        vertical-align: top;\n",
       "    }\n",
       "\n",
       "    .dataframe thead th {\n",
       "        text-align: right;\n",
       "    }\n",
       "</style>\n",
       "<table border=\"1\" class=\"dataframe\">\n",
       "  <thead>\n",
       "    <tr style=\"text-align: right;\">\n",
       "      <th></th>\n",
       "      <th>biochemistry</th>\n",
       "      <th>Pre</th>\n",
       "      <th>FD15</th>\n",
       "      <th>FD30</th>\n",
       "      <th>FD60</th>\n",
       "      <th>FD120</th>\n",
       "      <th>FD180</th>\n",
       "      <th>R+0</th>\n",
       "      <th>R+180</th>\n",
       "      <th>sample type</th>\n",
       "    </tr>\n",
       "  </thead>\n",
       "  <tbody>\n",
       "    <tr>\n",
       "      <th>0</th>\n",
       "      <td>CCL2/MCP-1 pg/ml</td>\n",
       "      <td>83 ± 17</td>\n",
       "      <td>89 ± 21</td>\n",
       "      <td>94 ± 17</td>\n",
       "      <td>96 ± 26</td>\n",
       "      <td>96 ± 25</td>\n",
       "      <td>93 ± 22</td>\n",
       "      <td>182 ± 146</td>\n",
       "      <td>87 ± 23</td>\n",
       "      <td>blood</td>\n",
       "    </tr>\n",
       "    <tr>\n",
       "      <th>1</th>\n",
       "      <td>CCL3/MIP-1a pg/ml</td>\n",
       "      <td>438 ± 194</td>\n",
       "      <td>644 ± 214</td>\n",
       "      <td>652 ± 129</td>\n",
       "      <td>642 ± 218</td>\n",
       "      <td>489 ± 89</td>\n",
       "      <td>641 ± 247</td>\n",
       "      <td>310 ± 96</td>\n",
       "      <td>388 ± 105</td>\n",
       "      <td>blood</td>\n",
       "    </tr>\n",
       "    <tr>\n",
       "      <th>2</th>\n",
       "      <td>CCL4/MIP1B pg/ml</td>\n",
       "      <td>54 ± 17</td>\n",
       "      <td>75 ± 27</td>\n",
       "      <td>101 ± 34</td>\n",
       "      <td>75 ± 34</td>\n",
       "      <td>75 ± 37</td>\n",
       "      <td>70 ± 28</td>\n",
       "      <td>51 ± 16</td>\n",
       "      <td>48 ± 14</td>\n",
       "      <td>blood</td>\n",
       "    </tr>\n",
       "    <tr>\n",
       "      <th>3</th>\n",
       "      <td>CCL5/RANTES pg/ml</td>\n",
       "      <td>6902 ± 4393</td>\n",
       "      <td>15462 ± 2388</td>\n",
       "      <td>17986 ± 601</td>\n",
       "      <td>15022 ± 2726</td>\n",
       "      <td>14227 ± 2755</td>\n",
       "      <td>13636 ± 3964</td>\n",
       "      <td>3890 ± 3563</td>\n",
       "      <td>5569 ± 2539</td>\n",
       "      <td>blood</td>\n",
       "    </tr>\n",
       "  </tbody>\n",
       "</table>\n",
       "</div>"
      ],
      "text/plain": [
       "        biochemistry          Pre          FD15         FD30          FD60  \\\n",
       "0   CCL2/MCP-1 pg/ml      83 ± 17       89 ± 21      94 ± 17       96 ± 26   \n",
       "1  CCL3/MIP-1a pg/ml    438 ± 194     644 ± 214    652 ± 129     642 ± 218   \n",
       "2   CCL4/MIP1B pg/ml      54 ± 17       75 ± 27     101 ± 34       75 ± 34   \n",
       "3  CCL5/RANTES pg/ml  6902 ± 4393  15462 ± 2388  17986 ± 601  15022 ± 2726   \n",
       "\n",
       "          FD120         FD180          R+0        R+180 sample type  \n",
       "0       96 ± 25       93 ± 22    182 ± 146      87 ± 23       blood  \n",
       "1      489 ± 89     641 ± 247     310 ± 96    388 ± 105       blood  \n",
       "2       75 ± 37       70 ± 28      51 ± 16      48 ± 14       blood  \n",
       "3  14227 ± 2755  13636 ± 3964  3890 ± 3563  5569 ± 2539       blood  "
      ]
     },
     "execution_count": 15,
     "metadata": {},
     "output_type": "execute_result"
    }
   ],
   "source": [
    "blood_biochem_data = pd.read_excel('../data/raw data/Biochemistry means_SD n11 Telomere subjects.xlsx', skiprows=5)\n",
    "blood_biochem_data = blood_biochem_data.iloc[:, 0:9]\n",
    "blood_biochem_data.rename(columns={'Blood Biochemistry  (n=11, not all time points have all 11 subjects though)': 'biochemistry'}, inplace=True)\n",
    "blood_biochem_data['sample type'] = 'blood'\n",
    "blood_biochem_data.head(4)"
   ]
  },
  {
   "cell_type": "markdown",
   "metadata": {},
   "source": [
    "## Saving the biochem data to csv's"
   ]
  },
  {
   "cell_type": "code",
   "execution_count": 16,
   "metadata": {},
   "outputs": [],
   "source": [
    "urine_biochem_data.to_csv('../data/compiled data/urine_biochem_data.csv', index=False)\n",
    "blood_biochem_data.to_csv('../data/compiled data/blood_biochem_data.csv', index=False)"
   ]
  }
 ],
 "metadata": {
  "kernelspec": {
   "display_name": "Python 3",
   "language": "python",
   "name": "python3"
  },
  "language_info": {
   "codemirror_mode": {
    "name": "ipython",
    "version": 3
   },
   "file_extension": ".py",
   "mimetype": "text/x-python",
   "name": "python",
   "nbconvert_exporter": "python",
   "pygments_lexer": "ipython3",
   "version": "3.7.5"
  },
  "toc-autonumbering": true
 },
 "nbformat": 4,
 "nbformat_minor": 2
}
