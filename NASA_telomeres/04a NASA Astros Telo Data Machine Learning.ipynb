{
 "cells": [
  {
   "cell_type": "code",
   "execution_count": 1,
   "metadata": {},
   "outputs": [
    {
     "name": "stderr",
     "output_type": "stream",
     "text": [
      "/usr/local/lib/python3.7/site-packages/statsmodels/compat/pandas.py:49: FutureWarning: The Panel class is removed from pandas. Accessing it from the top-level namespace will also be removed in the next version\n",
      "  data_klasses = (pandas.Series, pandas.DataFrame, pandas.Panel)\n"
     ]
    }
   ],
   "source": [
    "# general purpose modules for handling data\n",
    "import numpy as np\n",
    "import pandas as pd\n",
    "\n",
    "# for loading telo data column containing individual telomere length values\n",
    "from ast import literal_eval\n",
    "\n",
    "# data visualization\n",
    "import matplotlib.pyplot as plt\n",
    "import seaborn as sns\n",
    "sns.set_style(style=\"darkgrid\")\n",
    "\n",
    "# custom module for handling telomere length data\n",
    "import telomere_methods_astros as telo_ma\n",
    "\n",
    "# statistics\n",
    "import scipy.stats as stats\n",
    "import scikit_posthocs as sp\n",
    "from statsmodels.stats.anova import AnovaRM\n",
    "\n",
    "# machine learning \n",
    "from sklearn.linear_model import LinearRegression\n",
    "from sklearn.model_selection import KFold\n",
    "from xgboost import XGBRegressor\n",
    "from sklearn.model_selection import train_test_split\n",
    "from sklearn.metrics import mean_absolute_error, auc, accuracy_score, r2_score\n",
    "from sklearn.base import BaseEstimator, TransformerMixin\n",
    "from sklearn.pipeline import Pipeline\n",
    "from bayes_opt import BayesianOptimization\n",
    "\n",
    "import warnings\n",
    "warnings.simplefilter(action='ignore', category=FutureWarning)\n",
    "\n",
    "import importlib\n",
    "%load_ext autoreload\n",
    "%autoreload 2\n",
    "%reload_ext autoreload"
   ]
  },
  {
   "cell_type": "markdown",
   "metadata": {
    "toc-hr-collapsed": true
   },
   "source": [
    "# XGBoost machine learning with pre-flight individual telomere length data (Telo-FISH) for prediction of post-flight means"
   ]
  },
  {
   "cell_type": "markdown",
   "metadata": {},
   "source": [
    "## Reading in astronaut telomere length data"
   ]
  },
  {
   "cell_type": "code",
   "execution_count": 2,
   "metadata": {},
   "outputs": [],
   "source": [
    "# mean telomere length values\n",
    "astro_df = pd.read_csv('../data/compiled data/All_astronauts_telomere_length_dataframe.csv')\n",
    "astro_df['astro id'] = astro_df['astro id'].astype('str')\n",
    "astro_df['telo data'] = astro_df['telo data'].apply(lambda row: np.array(literal_eval(row)))\n",
    "\n",
    "# make short/long telomeres\n",
    "astro_df = telo_ma.make_quartiles_columns(astro_df)\n",
    "\n",
    "for col in ['Q1', 'Q2-3', 'Q4']:\n",
    "    astro_df[col] = astro_df[col].astype('int64')\n",
    "    \n",
    "astro_df.drop(['telo data', 'Q2-3'], axis=1, inplace=True)"
   ]
  },
  {
   "cell_type": "code",
   "execution_count": 3,
   "metadata": {},
   "outputs": [],
   "source": [
    "# individual telomere length data \n",
    "exploded_telos = pd.read_csv('../data/compiled and processed data/exploded_telos_astros_df.csv')\n",
    "exploded_telos['astro id'] = exploded_telos['astro id'].astype('str')\n",
    "\n",
    "exploded_telos.drop(['telo means'], axis=1, inplace=True)\n",
    "exploded_telos.rename({'telo data exploded':'individual telomeres'}, axis=1, inplace=True)"
   ]
  },
  {
   "cell_type": "markdown",
   "metadata": {},
   "source": [
    "# Preparing dataframes for machine learning"
   ]
  },
  {
   "cell_type": "code",
   "execution_count": 246,
   "metadata": {},
   "outputs": [],
   "source": [
    "# create 4 separate dataframes bearing pre-flight individual telomere lengths & timepoint specific post-flight values \n",
    "# (R+7, R+60, R+180, R+270, etc)\n",
    "\n",
    "ml_telos_df_r7 = telo_ma.make_post_flight_df_and_merge(astro_df=astro_df, exploded_telos=exploded_telos, timepoint='R+7')\n",
    "ml_telos_df_r60 = telo_ma.make_post_flight_df_and_merge(astro_df=astro_df, exploded_telos=exploded_telos, timepoint='R+60')\n",
    "ml_telos_df_r180 = telo_ma.make_post_flight_df_and_merge(astro_df=astro_df, exploded_telos=exploded_telos, timepoint='R+180')\n",
    "ml_telos_df_r270 = telo_ma.make_post_flight_df_and_merge(astro_df=astro_df, exploded_telos=exploded_telos, timepoint='R+270')"
   ]
  },
  {
   "cell_type": "code",
   "execution_count": 247,
   "metadata": {},
   "outputs": [
    {
     "data": {
      "text/html": [
       "<div>\n",
       "<style scoped>\n",
       "    .dataframe tbody tr th:only-of-type {\n",
       "        vertical-align: middle;\n",
       "    }\n",
       "\n",
       "    .dataframe tbody tr th {\n",
       "        vertical-align: top;\n",
       "    }\n",
       "\n",
       "    .dataframe thead th {\n",
       "        text-align: right;\n",
       "    }\n",
       "</style>\n",
       "<table border=\"1\" class=\"dataframe\">\n",
       "  <thead>\n",
       "    <tr style=\"text-align: right;\">\n",
       "      <th></th>\n",
       "      <th>astro id</th>\n",
       "      <th>timepoint</th>\n",
       "      <th>individual telomeres</th>\n",
       "      <th>R+7 telo means</th>\n",
       "      <th>R+7 Q1</th>\n",
       "      <th>R+7 Q4</th>\n",
       "    </tr>\n",
       "  </thead>\n",
       "  <tbody>\n",
       "    <tr>\n",
       "      <th>0</th>\n",
       "      <td>5163</td>\n",
       "      <td>L-270</td>\n",
       "      <td>132.793184</td>\n",
       "      <td>82.169298</td>\n",
       "      <td>1876</td>\n",
       "      <td>1003</td>\n",
       "    </tr>\n",
       "    <tr>\n",
       "      <th>1</th>\n",
       "      <td>5163</td>\n",
       "      <td>L-180</td>\n",
       "      <td>72.034748</td>\n",
       "      <td>82.169298</td>\n",
       "      <td>1876</td>\n",
       "      <td>1003</td>\n",
       "    </tr>\n",
       "    <tr>\n",
       "      <th>2</th>\n",
       "      <td>5163</td>\n",
       "      <td>L-60</td>\n",
       "      <td>89.558971</td>\n",
       "      <td>82.169298</td>\n",
       "      <td>1876</td>\n",
       "      <td>1003</td>\n",
       "    </tr>\n",
       "    <tr>\n",
       "      <th>3</th>\n",
       "      <td>5163</td>\n",
       "      <td>L-270</td>\n",
       "      <td>73.621784</td>\n",
       "      <td>82.169298</td>\n",
       "      <td>1876</td>\n",
       "      <td>1003</td>\n",
       "    </tr>\n",
       "  </tbody>\n",
       "</table>\n",
       "</div>"
      ],
      "text/plain": [
       "  astro id timepoint  individual telomeres  R+7 telo means  R+7 Q1  R+7 Q4\n",
       "0     5163     L-270            132.793184       82.169298    1876    1003\n",
       "1     5163     L-180             72.034748       82.169298    1876    1003\n",
       "2     5163      L-60             89.558971       82.169298    1876    1003\n",
       "3     5163     L-270             73.621784       82.169298    1876    1003"
      ]
     },
     "execution_count": 247,
     "metadata": {},
     "output_type": "execute_result"
    }
   ],
   "source": [
    "ml_telos_df_r7.head(4)"
   ]
  },
  {
   "cell_type": "code",
   "execution_count": 274,
   "metadata": {},
   "outputs": [],
   "source": [
    "# train/test split & stratify split according to astro id/pre-flight timepoint\n",
    "df = ml_telos_df_r270.copy()\n",
    "train_set, test_set = train_test_split(df, test_size=0.2, shuffle=True, stratify=df[['astro id', 'timepoint']])"
   ]
  },
  {
   "cell_type": "code",
   "execution_count": 275,
   "metadata": {},
   "outputs": [],
   "source": [
    "# intializing data cleaning pipelines\n",
    "\n",
    "clean_process_pipe = Pipeline([('features', telo_ma.make_features(make_log_target=False)), \n",
    "                               ('dummies', telo_ma.make_dummies(drop_first=True, how_dummify='encode')),\n",
    "                               ('cleaner', telo_ma.clean_data(drop_astro_id=True, timepoint='R+270', target='telo means'))\n",
    "                              ])"
   ]
  },
  {
   "cell_type": "code",
   "execution_count": 276,
   "metadata": {},
   "outputs": [],
   "source": [
    "# cleaning data with pipeline\n",
    "train_clean = train_set.copy()\n",
    "test_clean = test_set.copy()\n",
    "\n",
    "train_clean = clean_process_pipe.fit_transform(train_clean)\n",
    "test_clean = clean_process_pipe.fit_transform(test_clean)"
   ]
  },
  {
   "cell_type": "markdown",
   "metadata": {},
   "source": [
    "train_clean.head(4)"
   ]
  },
  {
   "cell_type": "code",
   "execution_count": 278,
   "metadata": {},
   "outputs": [],
   "source": [
    "model = XGBRegressor(n_estimators=200, max_depth=12, learning_rate=0.2, \n",
    "                     objective ='reg:squarederror', random_state=1)\n",
    "\n",
    "xgb_pipe = Pipeline([('XGB', model)\n",
    "                    ])\n",
    "\n",
    "full_pipe = Pipeline([('clean_process', clean_process_pipe),\n",
    "                      ('model', model)\n",
    "                     ])"
   ]
  },
  {
   "cell_type": "code",
   "execution_count": 280,
   "metadata": {},
   "outputs": [
    {
     "name": "stdout",
     "output_type": "stream",
     "text": [
      "MAE per CV fold: \n",
      "[13.87808449 13.75387456 13.8630172  13.87507261 13.96282344] \n",
      "\n",
      "MEAN of MAE all folds: 13.866574461545309\n",
      "STD of MAE all folds: 0.06660703561835987\n",
      "\n",
      "MAE of predict_y_test & y_test: 13.826572352872063\n",
      "R2 between predict_y_test & y_test: 0.18759597114995386\n"
     ]
    }
   ],
   "source": [
    "# five fold cross validation for predicting postflight timepoint/target with preflight individual telomeres\n",
    "fit_xgb_model, telo_row = telo_ma.cv_score_fit_mae_test(train_set=train_clean, test_set=test_clean, target='R+270 telo means',\n",
    "                                                        model=model, cv=5)"
   ]
  },
  {
   "cell_type": "markdown",
   "metadata": {},
   "source": [
    "# Clustering mean telomere length"
   ]
  },
  {
   "cell_type": "code",
   "execution_count": 6,
   "metadata": {},
   "outputs": [
    {
     "name": "stdout",
     "output_type": "stream",
     "text": [
      "The autoreload extension is already loaded. To reload it, use:\n",
      "  %reload_ext autoreload\n"
     ]
    }
   ],
   "source": [
    "import importlib\n",
    "%load_ext autoreload\n",
    "%autoreload 2\n",
    "%reload_ext autoreload"
   ]
  }
 ],
 "metadata": {
  "kernelspec": {
   "display_name": "Python 3",
   "language": "python",
   "name": "python3"
  },
  "language_info": {
   "codemirror_mode": {
    "name": "ipython",
    "version": 3
   },
   "file_extension": ".py",
   "mimetype": "text/x-python",
   "name": "python",
   "nbconvert_exporter": "python",
   "pygments_lexer": "ipython3",
   "version": "3.7.7"
  }
 },
 "nbformat": 4,
 "nbformat_minor": 2
}
